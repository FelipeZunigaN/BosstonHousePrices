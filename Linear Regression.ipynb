{
 "cells": [
  {
   "cell_type": "code",
   "execution_count": 1,
   "metadata": {},
   "outputs": [],
   "source": [
    "import numpy as np\n",
    "import matplotlib.pyplot as plt\n",
    "import pandas as pd\n",
    "%matplotlib inline"
   ]
  },
  {
   "cell_type": "markdown",
   "metadata": {},
   "source": [
    "## Load Dataset"
   ]
  },
  {
   "cell_type": "code",
   "execution_count": 2,
   "metadata": {},
   "outputs": [],
   "source": [
    "from sklearn.datasets import load_boston"
   ]
  },
  {
   "cell_type": "code",
   "execution_count": 3,
   "metadata": {},
   "outputs": [],
   "source": [
    "boston = load_boston()"
   ]
  },
  {
   "cell_type": "code",
   "execution_count": 4,
   "metadata": {},
   "outputs": [
    {
     "data": {
      "text/plain": [
       "dict_keys(['data', 'target', 'feature_names', 'DESCR', 'filename'])"
      ]
     },
     "execution_count": 4,
     "metadata": {},
     "output_type": "execute_result"
    }
   ],
   "source": [
    "# Check available information\n",
    "boston.keys()"
   ]
  },
  {
   "cell_type": "code",
   "execution_count": 5,
   "metadata": {},
   "outputs": [
    {
     "name": "stdout",
     "output_type": "stream",
     "text": [
      ".. _boston_dataset:\n",
      "\n",
      "Boston house prices dataset\n",
      "---------------------------\n",
      "\n",
      "**Data Set Characteristics:**  \n",
      "\n",
      "    :Number of Instances: 506 \n",
      "\n",
      "    :Number of Attributes: 13 numeric/categorical predictive. Median Value (attribute 14) is usually the target.\n",
      "\n",
      "    :Attribute Information (in order):\n",
      "        - CRIM     per capita crime rate by town\n",
      "        - ZN       proportion of residential land zoned for lots over 25,000 sq.ft.\n",
      "        - INDUS    proportion of non-retail business acres per town\n",
      "        - CHAS     Charles River dummy variable (= 1 if tract bounds river; 0 otherwise)\n",
      "        - NOX      nitric oxides concentration (parts per 10 million)\n",
      "        - RM       average number of rooms per dwelling\n",
      "        - AGE      proportion of owner-occupied units built prior to 1940\n",
      "        - DIS      weighted distances to five Boston employment centres\n",
      "        - RAD      index of accessibility to radial highways\n",
      "        - TAX      full-value property-tax rate per $10,000\n",
      "        - PTRATIO  pupil-teacher ratio by town\n",
      "        - B        1000(Bk - 0.63)^2 where Bk is the proportion of blacks by town\n",
      "        - LSTAT    % lower status of the population\n",
      "        - MEDV     Median value of owner-occupied homes in $1000's\n",
      "\n",
      "    :Missing Attribute Values: None\n",
      "\n",
      "    :Creator: Harrison, D. and Rubinfeld, D.L.\n",
      "\n",
      "This is a copy of UCI ML housing dataset.\n",
      "https://archive.ics.uci.edu/ml/machine-learning-databases/housing/\n",
      "\n",
      "\n",
      "This dataset was taken from the StatLib library which is maintained at Carnegie Mellon University.\n",
      "\n",
      "The Boston house-price data of Harrison, D. and Rubinfeld, D.L. 'Hedonic\n",
      "prices and the demand for clean air', J. Environ. Economics & Management,\n",
      "vol.5, 81-102, 1978.   Used in Belsley, Kuh & Welsch, 'Regression diagnostics\n",
      "...', Wiley, 1980.   N.B. Various transformations are used in the table on\n",
      "pages 244-261 of the latter.\n",
      "\n",
      "The Boston house-price data has been used in many machine learning papers that address regression\n",
      "problems.   \n",
      "     \n",
      ".. topic:: References\n",
      "\n",
      "   - Belsley, Kuh & Welsch, 'Regression diagnostics: Identifying Influential Data and Sources of Collinearity', Wiley, 1980. 244-261.\n",
      "   - Quinlan,R. (1993). Combining Instance-Based and Model-Based Learning. In Proceedings on the Tenth International Conference of Machine Learning, 236-243, University of Massachusetts, Amherst. Morgan Kaufmann.\n",
      "\n"
     ]
    }
   ],
   "source": [
    "# Check Description\n",
    "print(boston['DESCR'])"
   ]
  },
  {
   "cell_type": "code",
   "execution_count": 6,
   "metadata": {},
   "outputs": [
    {
     "name": "stdout",
     "output_type": "stream",
     "text": [
      "[[6.3200e-03 1.8000e+01 2.3100e+00 ... 1.5300e+01 3.9690e+02 4.9800e+00]\n",
      " [2.7310e-02 0.0000e+00 7.0700e+00 ... 1.7800e+01 3.9690e+02 9.1400e+00]\n",
      " [2.7290e-02 0.0000e+00 7.0700e+00 ... 1.7800e+01 3.9283e+02 4.0300e+00]\n",
      " ...\n",
      " [6.0760e-02 0.0000e+00 1.1930e+01 ... 2.1000e+01 3.9690e+02 5.6400e+00]\n",
      " [1.0959e-01 0.0000e+00 1.1930e+01 ... 2.1000e+01 3.9345e+02 6.4800e+00]\n",
      " [4.7410e-02 0.0000e+00 1.1930e+01 ... 2.1000e+01 3.9690e+02 7.8800e+00]]\n"
     ]
    }
   ],
   "source": [
    "print(boston['data'])"
   ]
  },
  {
   "cell_type": "code",
   "execution_count": 7,
   "metadata": {},
   "outputs": [
    {
     "data": {
      "text/plain": [
       "array([24. , 21.6, 34.7, 33.4, 36.2, 28.7, 22.9, 27.1, 16.5, 18.9, 15. ,\n",
       "       18.9, 21.7, 20.4, 18.2, 19.9, 23.1, 17.5, 20.2, 18.2, 13.6, 19.6,\n",
       "       15.2, 14.5, 15.6, 13.9, 16.6, 14.8, 18.4, 21. , 12.7, 14.5, 13.2,\n",
       "       13.1, 13.5, 18.9, 20. , 21. , 24.7, 30.8, 34.9, 26.6, 25.3, 24.7,\n",
       "       21.2, 19.3, 20. , 16.6, 14.4, 19.4, 19.7, 20.5, 25. , 23.4, 18.9,\n",
       "       35.4, 24.7, 31.6, 23.3, 19.6, 18.7, 16. , 22.2, 25. , 33. , 23.5,\n",
       "       19.4, 22. , 17.4, 20.9, 24.2, 21.7, 22.8, 23.4, 24.1, 21.4, 20. ,\n",
       "       20.8, 21.2, 20.3, 28. , 23.9, 24.8, 22.9, 23.9, 26.6, 22.5, 22.2,\n",
       "       23.6, 28.7, 22.6, 22. , 22.9, 25. , 20.6, 28.4, 21.4, 38.7, 43.8,\n",
       "       33.2, 27.5, 26.5, 18.6, 19.3, 20.1, 19.5, 19.5, 20.4, 19.8, 19.4,\n",
       "       21.7, 22.8, 18.8, 18.7, 18.5, 18.3, 21.2, 19.2, 20.4, 19.3, 22. ,\n",
       "       20.3, 20.5, 17.3, 18.8, 21.4, 15.7, 16.2, 18. , 14.3, 19.2, 19.6,\n",
       "       23. , 18.4, 15.6, 18.1, 17.4, 17.1, 13.3, 17.8, 14. , 14.4, 13.4,\n",
       "       15.6, 11.8, 13.8, 15.6, 14.6, 17.8, 15.4, 21.5, 19.6, 15.3, 19.4,\n",
       "       17. , 15.6, 13.1, 41.3, 24.3, 23.3, 27. , 50. , 50. , 50. , 22.7,\n",
       "       25. , 50. , 23.8, 23.8, 22.3, 17.4, 19.1, 23.1, 23.6, 22.6, 29.4,\n",
       "       23.2, 24.6, 29.9, 37.2, 39.8, 36.2, 37.9, 32.5, 26.4, 29.6, 50. ,\n",
       "       32. , 29.8, 34.9, 37. , 30.5, 36.4, 31.1, 29.1, 50. , 33.3, 30.3,\n",
       "       34.6, 34.9, 32.9, 24.1, 42.3, 48.5, 50. , 22.6, 24.4, 22.5, 24.4,\n",
       "       20. , 21.7, 19.3, 22.4, 28.1, 23.7, 25. , 23.3, 28.7, 21.5, 23. ,\n",
       "       26.7, 21.7, 27.5, 30.1, 44.8, 50. , 37.6, 31.6, 46.7, 31.5, 24.3,\n",
       "       31.7, 41.7, 48.3, 29. , 24. , 25.1, 31.5, 23.7, 23.3, 22. , 20.1,\n",
       "       22.2, 23.7, 17.6, 18.5, 24.3, 20.5, 24.5, 26.2, 24.4, 24.8, 29.6,\n",
       "       42.8, 21.9, 20.9, 44. , 50. , 36. , 30.1, 33.8, 43.1, 48.8, 31. ,\n",
       "       36.5, 22.8, 30.7, 50. , 43.5, 20.7, 21.1, 25.2, 24.4, 35.2, 32.4,\n",
       "       32. , 33.2, 33.1, 29.1, 35.1, 45.4, 35.4, 46. , 50. , 32.2, 22. ,\n",
       "       20.1, 23.2, 22.3, 24.8, 28.5, 37.3, 27.9, 23.9, 21.7, 28.6, 27.1,\n",
       "       20.3, 22.5, 29. , 24.8, 22. , 26.4, 33.1, 36.1, 28.4, 33.4, 28.2,\n",
       "       22.8, 20.3, 16.1, 22.1, 19.4, 21.6, 23.8, 16.2, 17.8, 19.8, 23.1,\n",
       "       21. , 23.8, 23.1, 20.4, 18.5, 25. , 24.6, 23. , 22.2, 19.3, 22.6,\n",
       "       19.8, 17.1, 19.4, 22.2, 20.7, 21.1, 19.5, 18.5, 20.6, 19. , 18.7,\n",
       "       32.7, 16.5, 23.9, 31.2, 17.5, 17.2, 23.1, 24.5, 26.6, 22.9, 24.1,\n",
       "       18.6, 30.1, 18.2, 20.6, 17.8, 21.7, 22.7, 22.6, 25. , 19.9, 20.8,\n",
       "       16.8, 21.9, 27.5, 21.9, 23.1, 50. , 50. , 50. , 50. , 50. , 13.8,\n",
       "       13.8, 15. , 13.9, 13.3, 13.1, 10.2, 10.4, 10.9, 11.3, 12.3,  8.8,\n",
       "        7.2, 10.5,  7.4, 10.2, 11.5, 15.1, 23.2,  9.7, 13.8, 12.7, 13.1,\n",
       "       12.5,  8.5,  5. ,  6.3,  5.6,  7.2, 12.1,  8.3,  8.5,  5. , 11.9,\n",
       "       27.9, 17.2, 27.5, 15. , 17.2, 17.9, 16.3,  7. ,  7.2,  7.5, 10.4,\n",
       "        8.8,  8.4, 16.7, 14.2, 20.8, 13.4, 11.7,  8.3, 10.2, 10.9, 11. ,\n",
       "        9.5, 14.5, 14.1, 16.1, 14.3, 11.7, 13.4,  9.6,  8.7,  8.4, 12.8,\n",
       "       10.5, 17.1, 18.4, 15.4, 10.8, 11.8, 14.9, 12.6, 14.1, 13. , 13.4,\n",
       "       15.2, 16.1, 17.8, 14.9, 14.1, 12.7, 13.5, 14.9, 20. , 16.4, 17.7,\n",
       "       19.5, 20.2, 21.4, 19.9, 19. , 19.1, 19.1, 20.1, 19.9, 19.6, 23.2,\n",
       "       29.8, 13.8, 13.3, 16.7, 12. , 14.6, 21.4, 23. , 23.7, 25. , 21.8,\n",
       "       20.6, 21.2, 19.1, 20.6, 15.2,  7. ,  8.1, 13.6, 20.1, 21.8, 24.5,\n",
       "       23.1, 19.7, 18.3, 21.2, 17.5, 16.8, 22.4, 20.6, 23.9, 22. , 11.9])"
      ]
     },
     "execution_count": 7,
     "metadata": {},
     "output_type": "execute_result"
    }
   ],
   "source": [
    "boston.target"
   ]
  },
  {
   "cell_type": "code",
   "execution_count": 8,
   "metadata": {},
   "outputs": [
    {
     "data": {
      "text/plain": [
       "array(['CRIM', 'ZN', 'INDUS', 'CHAS', 'NOX', 'RM', 'AGE', 'DIS', 'RAD',\n",
       "       'TAX', 'PTRATIO', 'B', 'LSTAT'], dtype='<U7')"
      ]
     },
     "execution_count": 8,
     "metadata": {},
     "output_type": "execute_result"
    }
   ],
   "source": [
    "boston.feature_names"
   ]
  },
  {
   "cell_type": "markdown",
   "metadata": {},
   "source": [
    "## Preparing Dataset"
   ]
  },
  {
   "cell_type": "code",
   "execution_count": 9,
   "metadata": {},
   "outputs": [],
   "source": [
    "data = pd.DataFrame(boston.data, columns=boston.feature_names)"
   ]
  },
  {
   "cell_type": "code",
   "execution_count": 10,
   "metadata": {},
   "outputs": [],
   "source": [
    "data['Price'] = boston.target"
   ]
  },
  {
   "cell_type": "code",
   "execution_count": 11,
   "metadata": {},
   "outputs": [
    {
     "data": {
      "text/html": [
       "<div>\n",
       "<style scoped>\n",
       "    .dataframe tbody tr th:only-of-type {\n",
       "        vertical-align: middle;\n",
       "    }\n",
       "\n",
       "    .dataframe tbody tr th {\n",
       "        vertical-align: top;\n",
       "    }\n",
       "\n",
       "    .dataframe thead th {\n",
       "        text-align: right;\n",
       "    }\n",
       "</style>\n",
       "<table border=\"1\" class=\"dataframe\">\n",
       "  <thead>\n",
       "    <tr style=\"text-align: right;\">\n",
       "      <th></th>\n",
       "      <th>CRIM</th>\n",
       "      <th>ZN</th>\n",
       "      <th>INDUS</th>\n",
       "      <th>CHAS</th>\n",
       "      <th>NOX</th>\n",
       "      <th>RM</th>\n",
       "      <th>AGE</th>\n",
       "      <th>DIS</th>\n",
       "      <th>RAD</th>\n",
       "      <th>TAX</th>\n",
       "      <th>PTRATIO</th>\n",
       "      <th>B</th>\n",
       "      <th>LSTAT</th>\n",
       "      <th>Price</th>\n",
       "    </tr>\n",
       "  </thead>\n",
       "  <tbody>\n",
       "    <tr>\n",
       "      <th>0</th>\n",
       "      <td>0.00632</td>\n",
       "      <td>18.0</td>\n",
       "      <td>2.31</td>\n",
       "      <td>0.0</td>\n",
       "      <td>0.538</td>\n",
       "      <td>6.575</td>\n",
       "      <td>65.2</td>\n",
       "      <td>4.0900</td>\n",
       "      <td>1.0</td>\n",
       "      <td>296.0</td>\n",
       "      <td>15.3</td>\n",
       "      <td>396.90</td>\n",
       "      <td>4.98</td>\n",
       "      <td>24.0</td>\n",
       "    </tr>\n",
       "    <tr>\n",
       "      <th>1</th>\n",
       "      <td>0.02731</td>\n",
       "      <td>0.0</td>\n",
       "      <td>7.07</td>\n",
       "      <td>0.0</td>\n",
       "      <td>0.469</td>\n",
       "      <td>6.421</td>\n",
       "      <td>78.9</td>\n",
       "      <td>4.9671</td>\n",
       "      <td>2.0</td>\n",
       "      <td>242.0</td>\n",
       "      <td>17.8</td>\n",
       "      <td>396.90</td>\n",
       "      <td>9.14</td>\n",
       "      <td>21.6</td>\n",
       "    </tr>\n",
       "    <tr>\n",
       "      <th>2</th>\n",
       "      <td>0.02729</td>\n",
       "      <td>0.0</td>\n",
       "      <td>7.07</td>\n",
       "      <td>0.0</td>\n",
       "      <td>0.469</td>\n",
       "      <td>7.185</td>\n",
       "      <td>61.1</td>\n",
       "      <td>4.9671</td>\n",
       "      <td>2.0</td>\n",
       "      <td>242.0</td>\n",
       "      <td>17.8</td>\n",
       "      <td>392.83</td>\n",
       "      <td>4.03</td>\n",
       "      <td>34.7</td>\n",
       "    </tr>\n",
       "    <tr>\n",
       "      <th>3</th>\n",
       "      <td>0.03237</td>\n",
       "      <td>0.0</td>\n",
       "      <td>2.18</td>\n",
       "      <td>0.0</td>\n",
       "      <td>0.458</td>\n",
       "      <td>6.998</td>\n",
       "      <td>45.8</td>\n",
       "      <td>6.0622</td>\n",
       "      <td>3.0</td>\n",
       "      <td>222.0</td>\n",
       "      <td>18.7</td>\n",
       "      <td>394.63</td>\n",
       "      <td>2.94</td>\n",
       "      <td>33.4</td>\n",
       "    </tr>\n",
       "    <tr>\n",
       "      <th>4</th>\n",
       "      <td>0.06905</td>\n",
       "      <td>0.0</td>\n",
       "      <td>2.18</td>\n",
       "      <td>0.0</td>\n",
       "      <td>0.458</td>\n",
       "      <td>7.147</td>\n",
       "      <td>54.2</td>\n",
       "      <td>6.0622</td>\n",
       "      <td>3.0</td>\n",
       "      <td>222.0</td>\n",
       "      <td>18.7</td>\n",
       "      <td>396.90</td>\n",
       "      <td>5.33</td>\n",
       "      <td>36.2</td>\n",
       "    </tr>\n",
       "  </tbody>\n",
       "</table>\n",
       "</div>"
      ],
      "text/plain": [
       "      CRIM    ZN  INDUS  CHAS    NOX     RM   AGE     DIS  RAD    TAX  \\\n",
       "0  0.00632  18.0   2.31   0.0  0.538  6.575  65.2  4.0900  1.0  296.0   \n",
       "1  0.02731   0.0   7.07   0.0  0.469  6.421  78.9  4.9671  2.0  242.0   \n",
       "2  0.02729   0.0   7.07   0.0  0.469  7.185  61.1  4.9671  2.0  242.0   \n",
       "3  0.03237   0.0   2.18   0.0  0.458  6.998  45.8  6.0622  3.0  222.0   \n",
       "4  0.06905   0.0   2.18   0.0  0.458  7.147  54.2  6.0622  3.0  222.0   \n",
       "\n",
       "   PTRATIO       B  LSTAT  Price  \n",
       "0     15.3  396.90   4.98   24.0  \n",
       "1     17.8  396.90   9.14   21.6  \n",
       "2     17.8  392.83   4.03   34.7  \n",
       "3     18.7  394.63   2.94   33.4  \n",
       "4     18.7  396.90   5.33   36.2  "
      ]
     },
     "execution_count": 11,
     "metadata": {},
     "output_type": "execute_result"
    }
   ],
   "source": [
    "data.head()"
   ]
  },
  {
   "cell_type": "code",
   "execution_count": 12,
   "metadata": {},
   "outputs": [
    {
     "name": "stdout",
     "output_type": "stream",
     "text": [
      "<class 'pandas.core.frame.DataFrame'>\n",
      "RangeIndex: 506 entries, 0 to 505\n",
      "Data columns (total 14 columns):\n",
      " #   Column   Non-Null Count  Dtype  \n",
      "---  ------   --------------  -----  \n",
      " 0   CRIM     506 non-null    float64\n",
      " 1   ZN       506 non-null    float64\n",
      " 2   INDUS    506 non-null    float64\n",
      " 3   CHAS     506 non-null    float64\n",
      " 4   NOX      506 non-null    float64\n",
      " 5   RM       506 non-null    float64\n",
      " 6   AGE      506 non-null    float64\n",
      " 7   DIS      506 non-null    float64\n",
      " 8   RAD      506 non-null    float64\n",
      " 9   TAX      506 non-null    float64\n",
      " 10  PTRATIO  506 non-null    float64\n",
      " 11  B        506 non-null    float64\n",
      " 12  LSTAT    506 non-null    float64\n",
      " 13  Price    506 non-null    float64\n",
      "dtypes: float64(14)\n",
      "memory usage: 55.5 KB\n"
     ]
    }
   ],
   "source": [
    "data.info()"
   ]
  },
  {
   "cell_type": "code",
   "execution_count": 13,
   "metadata": {},
   "outputs": [
    {
     "data": {
      "text/html": [
       "<div>\n",
       "<style scoped>\n",
       "    .dataframe tbody tr th:only-of-type {\n",
       "        vertical-align: middle;\n",
       "    }\n",
       "\n",
       "    .dataframe tbody tr th {\n",
       "        vertical-align: top;\n",
       "    }\n",
       "\n",
       "    .dataframe thead th {\n",
       "        text-align: right;\n",
       "    }\n",
       "</style>\n",
       "<table border=\"1\" class=\"dataframe\">\n",
       "  <thead>\n",
       "    <tr style=\"text-align: right;\">\n",
       "      <th></th>\n",
       "      <th>count</th>\n",
       "      <th>mean</th>\n",
       "      <th>std</th>\n",
       "      <th>min</th>\n",
       "      <th>25%</th>\n",
       "      <th>50%</th>\n",
       "      <th>75%</th>\n",
       "      <th>max</th>\n",
       "    </tr>\n",
       "  </thead>\n",
       "  <tbody>\n",
       "    <tr>\n",
       "      <th>CRIM</th>\n",
       "      <td>506.0</td>\n",
       "      <td>3.613524</td>\n",
       "      <td>8.601545</td>\n",
       "      <td>0.00632</td>\n",
       "      <td>0.082045</td>\n",
       "      <td>0.25651</td>\n",
       "      <td>3.677083</td>\n",
       "      <td>88.9762</td>\n",
       "    </tr>\n",
       "    <tr>\n",
       "      <th>ZN</th>\n",
       "      <td>506.0</td>\n",
       "      <td>11.363636</td>\n",
       "      <td>23.322453</td>\n",
       "      <td>0.00000</td>\n",
       "      <td>0.000000</td>\n",
       "      <td>0.00000</td>\n",
       "      <td>12.500000</td>\n",
       "      <td>100.0000</td>\n",
       "    </tr>\n",
       "    <tr>\n",
       "      <th>INDUS</th>\n",
       "      <td>506.0</td>\n",
       "      <td>11.136779</td>\n",
       "      <td>6.860353</td>\n",
       "      <td>0.46000</td>\n",
       "      <td>5.190000</td>\n",
       "      <td>9.69000</td>\n",
       "      <td>18.100000</td>\n",
       "      <td>27.7400</td>\n",
       "    </tr>\n",
       "    <tr>\n",
       "      <th>CHAS</th>\n",
       "      <td>506.0</td>\n",
       "      <td>0.069170</td>\n",
       "      <td>0.253994</td>\n",
       "      <td>0.00000</td>\n",
       "      <td>0.000000</td>\n",
       "      <td>0.00000</td>\n",
       "      <td>0.000000</td>\n",
       "      <td>1.0000</td>\n",
       "    </tr>\n",
       "    <tr>\n",
       "      <th>NOX</th>\n",
       "      <td>506.0</td>\n",
       "      <td>0.554695</td>\n",
       "      <td>0.115878</td>\n",
       "      <td>0.38500</td>\n",
       "      <td>0.449000</td>\n",
       "      <td>0.53800</td>\n",
       "      <td>0.624000</td>\n",
       "      <td>0.8710</td>\n",
       "    </tr>\n",
       "    <tr>\n",
       "      <th>RM</th>\n",
       "      <td>506.0</td>\n",
       "      <td>6.284634</td>\n",
       "      <td>0.702617</td>\n",
       "      <td>3.56100</td>\n",
       "      <td>5.885500</td>\n",
       "      <td>6.20850</td>\n",
       "      <td>6.623500</td>\n",
       "      <td>8.7800</td>\n",
       "    </tr>\n",
       "    <tr>\n",
       "      <th>AGE</th>\n",
       "      <td>506.0</td>\n",
       "      <td>68.574901</td>\n",
       "      <td>28.148861</td>\n",
       "      <td>2.90000</td>\n",
       "      <td>45.025000</td>\n",
       "      <td>77.50000</td>\n",
       "      <td>94.075000</td>\n",
       "      <td>100.0000</td>\n",
       "    </tr>\n",
       "    <tr>\n",
       "      <th>DIS</th>\n",
       "      <td>506.0</td>\n",
       "      <td>3.795043</td>\n",
       "      <td>2.105710</td>\n",
       "      <td>1.12960</td>\n",
       "      <td>2.100175</td>\n",
       "      <td>3.20745</td>\n",
       "      <td>5.188425</td>\n",
       "      <td>12.1265</td>\n",
       "    </tr>\n",
       "    <tr>\n",
       "      <th>RAD</th>\n",
       "      <td>506.0</td>\n",
       "      <td>9.549407</td>\n",
       "      <td>8.707259</td>\n",
       "      <td>1.00000</td>\n",
       "      <td>4.000000</td>\n",
       "      <td>5.00000</td>\n",
       "      <td>24.000000</td>\n",
       "      <td>24.0000</td>\n",
       "    </tr>\n",
       "    <tr>\n",
       "      <th>TAX</th>\n",
       "      <td>506.0</td>\n",
       "      <td>408.237154</td>\n",
       "      <td>168.537116</td>\n",
       "      <td>187.00000</td>\n",
       "      <td>279.000000</td>\n",
       "      <td>330.00000</td>\n",
       "      <td>666.000000</td>\n",
       "      <td>711.0000</td>\n",
       "    </tr>\n",
       "    <tr>\n",
       "      <th>PTRATIO</th>\n",
       "      <td>506.0</td>\n",
       "      <td>18.455534</td>\n",
       "      <td>2.164946</td>\n",
       "      <td>12.60000</td>\n",
       "      <td>17.400000</td>\n",
       "      <td>19.05000</td>\n",
       "      <td>20.200000</td>\n",
       "      <td>22.0000</td>\n",
       "    </tr>\n",
       "    <tr>\n",
       "      <th>B</th>\n",
       "      <td>506.0</td>\n",
       "      <td>356.674032</td>\n",
       "      <td>91.294864</td>\n",
       "      <td>0.32000</td>\n",
       "      <td>375.377500</td>\n",
       "      <td>391.44000</td>\n",
       "      <td>396.225000</td>\n",
       "      <td>396.9000</td>\n",
       "    </tr>\n",
       "    <tr>\n",
       "      <th>LSTAT</th>\n",
       "      <td>506.0</td>\n",
       "      <td>12.653063</td>\n",
       "      <td>7.141062</td>\n",
       "      <td>1.73000</td>\n",
       "      <td>6.950000</td>\n",
       "      <td>11.36000</td>\n",
       "      <td>16.955000</td>\n",
       "      <td>37.9700</td>\n",
       "    </tr>\n",
       "    <tr>\n",
       "      <th>Price</th>\n",
       "      <td>506.0</td>\n",
       "      <td>22.532806</td>\n",
       "      <td>9.197104</td>\n",
       "      <td>5.00000</td>\n",
       "      <td>17.025000</td>\n",
       "      <td>21.20000</td>\n",
       "      <td>25.000000</td>\n",
       "      <td>50.0000</td>\n",
       "    </tr>\n",
       "  </tbody>\n",
       "</table>\n",
       "</div>"
      ],
      "text/plain": [
       "         count        mean         std        min         25%        50%  \\\n",
       "CRIM     506.0    3.613524    8.601545    0.00632    0.082045    0.25651   \n",
       "ZN       506.0   11.363636   23.322453    0.00000    0.000000    0.00000   \n",
       "INDUS    506.0   11.136779    6.860353    0.46000    5.190000    9.69000   \n",
       "CHAS     506.0    0.069170    0.253994    0.00000    0.000000    0.00000   \n",
       "NOX      506.0    0.554695    0.115878    0.38500    0.449000    0.53800   \n",
       "RM       506.0    6.284634    0.702617    3.56100    5.885500    6.20850   \n",
       "AGE      506.0   68.574901   28.148861    2.90000   45.025000   77.50000   \n",
       "DIS      506.0    3.795043    2.105710    1.12960    2.100175    3.20745   \n",
       "RAD      506.0    9.549407    8.707259    1.00000    4.000000    5.00000   \n",
       "TAX      506.0  408.237154  168.537116  187.00000  279.000000  330.00000   \n",
       "PTRATIO  506.0   18.455534    2.164946   12.60000   17.400000   19.05000   \n",
       "B        506.0  356.674032   91.294864    0.32000  375.377500  391.44000   \n",
       "LSTAT    506.0   12.653063    7.141062    1.73000    6.950000   11.36000   \n",
       "Price    506.0   22.532806    9.197104    5.00000   17.025000   21.20000   \n",
       "\n",
       "                75%       max  \n",
       "CRIM       3.677083   88.9762  \n",
       "ZN        12.500000  100.0000  \n",
       "INDUS     18.100000   27.7400  \n",
       "CHAS       0.000000    1.0000  \n",
       "NOX        0.624000    0.8710  \n",
       "RM         6.623500    8.7800  \n",
       "AGE       94.075000  100.0000  \n",
       "DIS        5.188425   12.1265  \n",
       "RAD       24.000000   24.0000  \n",
       "TAX      666.000000  711.0000  \n",
       "PTRATIO   20.200000   22.0000  \n",
       "B        396.225000  396.9000  \n",
       "LSTAT     16.955000   37.9700  \n",
       "Price     25.000000   50.0000  "
      ]
     },
     "execution_count": 13,
     "metadata": {},
     "output_type": "execute_result"
    }
   ],
   "source": [
    "# Summarizing statistics of the data\n",
    "data.describe().T"
   ]
  },
  {
   "cell_type": "code",
   "execution_count": 14,
   "metadata": {},
   "outputs": [
    {
     "data": {
      "text/plain": [
       "CRIM       0\n",
       "ZN         0\n",
       "INDUS      0\n",
       "CHAS       0\n",
       "NOX        0\n",
       "RM         0\n",
       "AGE        0\n",
       "DIS        0\n",
       "RAD        0\n",
       "TAX        0\n",
       "PTRATIO    0\n",
       "B          0\n",
       "LSTAT      0\n",
       "Price      0\n",
       "dtype: int64"
      ]
     },
     "execution_count": 14,
     "metadata": {},
     "output_type": "execute_result"
    }
   ],
   "source": [
    "data.isna().sum()"
   ]
  },
  {
   "cell_type": "markdown",
   "metadata": {},
   "source": [
    "## EDA (Exploratory Data Analysis)"
   ]
  },
  {
   "cell_type": "code",
   "execution_count": 15,
   "metadata": {},
   "outputs": [
    {
     "data": {
      "text/html": [
       "<style  type=\"text/css\" >\n",
       "#T_43a18e34_d6fd_11ed_9a2c_f8e4e3aae442row0_col0,#T_43a18e34_d6fd_11ed_9a2c_f8e4e3aae442row1_col1,#T_43a18e34_d6fd_11ed_9a2c_f8e4e3aae442row2_col2,#T_43a18e34_d6fd_11ed_9a2c_f8e4e3aae442row3_col3,#T_43a18e34_d6fd_11ed_9a2c_f8e4e3aae442row4_col4,#T_43a18e34_d6fd_11ed_9a2c_f8e4e3aae442row5_col5,#T_43a18e34_d6fd_11ed_9a2c_f8e4e3aae442row6_col6,#T_43a18e34_d6fd_11ed_9a2c_f8e4e3aae442row7_col7,#T_43a18e34_d6fd_11ed_9a2c_f8e4e3aae442row8_col8,#T_43a18e34_d6fd_11ed_9a2c_f8e4e3aae442row9_col9,#T_43a18e34_d6fd_11ed_9a2c_f8e4e3aae442row10_col10,#T_43a18e34_d6fd_11ed_9a2c_f8e4e3aae442row11_col11,#T_43a18e34_d6fd_11ed_9a2c_f8e4e3aae442row12_col12,#T_43a18e34_d6fd_11ed_9a2c_f8e4e3aae442row13_col13{\n",
       "            background-color:  #b40426;\n",
       "            color:  #f1f1f1;\n",
       "        }#T_43a18e34_d6fd_11ed_9a2c_f8e4e3aae442row0_col1{\n",
       "            background-color:  #88abfd;\n",
       "            color:  #000000;\n",
       "        }#T_43a18e34_d6fd_11ed_9a2c_f8e4e3aae442row0_col2{\n",
       "            background-color:  #f7bca1;\n",
       "            color:  #000000;\n",
       "        }#T_43a18e34_d6fd_11ed_9a2c_f8e4e3aae442row0_col3{\n",
       "            background-color:  #4b64d5;\n",
       "            color:  #f1f1f1;\n",
       "        }#T_43a18e34_d6fd_11ed_9a2c_f8e4e3aae442row0_col4{\n",
       "            background-color:  #f7b599;\n",
       "            color:  #000000;\n",
       "        }#T_43a18e34_d6fd_11ed_9a2c_f8e4e3aae442row0_col5{\n",
       "            background-color:  #8badfd;\n",
       "            color:  #000000;\n",
       "        }#T_43a18e34_d6fd_11ed_9a2c_f8e4e3aae442row0_col6,#T_43a18e34_d6fd_11ed_9a2c_f8e4e3aae442row1_col13{\n",
       "            background-color:  #f5c2aa;\n",
       "            color:  #000000;\n",
       "        }#T_43a18e34_d6fd_11ed_9a2c_f8e4e3aae442row0_col7,#T_43a18e34_d6fd_11ed_9a2c_f8e4e3aae442row11_col4,#T_43a18e34_d6fd_11ed_9a2c_f8e4e3aae442row11_col10{\n",
       "            background-color:  #82a6fb;\n",
       "            color:  #000000;\n",
       "        }#T_43a18e34_d6fd_11ed_9a2c_f8e4e3aae442row0_col8{\n",
       "            background-color:  #f49a7b;\n",
       "            color:  #000000;\n",
       "        }#T_43a18e34_d6fd_11ed_9a2c_f8e4e3aae442row0_col9,#T_43a18e34_d6fd_11ed_9a2c_f8e4e3aae442row2_col8,#T_43a18e34_d6fd_11ed_9a2c_f8e4e3aae442row8_col0{\n",
       "            background-color:  #f6a283;\n",
       "            color:  #000000;\n",
       "        }#T_43a18e34_d6fd_11ed_9a2c_f8e4e3aae442row0_col10{\n",
       "            background-color:  #e4d9d2;\n",
       "            color:  #000000;\n",
       "        }#T_43a18e34_d6fd_11ed_9a2c_f8e4e3aae442row0_col11,#T_43a18e34_d6fd_11ed_9a2c_f8e4e3aae442row13_col9{\n",
       "            background-color:  #465ecf;\n",
       "            color:  #f1f1f1;\n",
       "        }#T_43a18e34_d6fd_11ed_9a2c_f8e4e3aae442row0_col12{\n",
       "            background-color:  #f7b194;\n",
       "            color:  #000000;\n",
       "        }#T_43a18e34_d6fd_11ed_9a2c_f8e4e3aae442row0_col13,#T_43a18e34_d6fd_11ed_9a2c_f8e4e3aae442row9_col5{\n",
       "            background-color:  #7b9ff9;\n",
       "            color:  #000000;\n",
       "        }#T_43a18e34_d6fd_11ed_9a2c_f8e4e3aae442row1_col0{\n",
       "            background-color:  #6485ec;\n",
       "            color:  #000000;\n",
       "        }#T_43a18e34_d6fd_11ed_9a2c_f8e4e3aae442row1_col2,#T_43a18e34_d6fd_11ed_9a2c_f8e4e3aae442row1_col6,#T_43a18e34_d6fd_11ed_9a2c_f8e4e3aae442row8_col3{\n",
       "            background-color:  #5a78e4;\n",
       "            color:  #000000;\n",
       "        }#T_43a18e34_d6fd_11ed_9a2c_f8e4e3aae442row1_col3{\n",
       "            background-color:  #4f69d9;\n",
       "            color:  #000000;\n",
       "        }#T_43a18e34_d6fd_11ed_9a2c_f8e4e3aae442row1_col4,#T_43a18e34_d6fd_11ed_9a2c_f8e4e3aae442row1_col9{\n",
       "            background-color:  #6788ee;\n",
       "            color:  #000000;\n",
       "        }#T_43a18e34_d6fd_11ed_9a2c_f8e4e3aae442row1_col5,#T_43a18e34_d6fd_11ed_9a2c_f8e4e3aae442row2_col0{\n",
       "            background-color:  #edd1c2;\n",
       "            color:  #000000;\n",
       "        }#T_43a18e34_d6fd_11ed_9a2c_f8e4e3aae442row1_col7,#T_43a18e34_d6fd_11ed_9a2c_f8e4e3aae442row9_col4,#T_43a18e34_d6fd_11ed_9a2c_f8e4e3aae442row13_col5{\n",
       "            background-color:  #ec7f63;\n",
       "            color:  #000000;\n",
       "        }#T_43a18e34_d6fd_11ed_9a2c_f8e4e3aae442row1_col8,#T_43a18e34_d6fd_11ed_9a2c_f8e4e3aae442row5_col0{\n",
       "            background-color:  #6180e9;\n",
       "            color:  #000000;\n",
       "        }#T_43a18e34_d6fd_11ed_9a2c_f8e4e3aae442row1_col10,#T_43a18e34_d6fd_11ed_9a2c_f8e4e3aae442row9_col3,#T_43a18e34_d6fd_11ed_9a2c_f8e4e3aae442row13_col8{\n",
       "            background-color:  #516ddb;\n",
       "            color:  #000000;\n",
       "        }#T_43a18e34_d6fd_11ed_9a2c_f8e4e3aae442row1_col11{\n",
       "            background-color:  #c9d7f0;\n",
       "            color:  #000000;\n",
       "        }#T_43a18e34_d6fd_11ed_9a2c_f8e4e3aae442row1_col12,#T_43a18e34_d6fd_11ed_9a2c_f8e4e3aae442row5_col2,#T_43a18e34_d6fd_11ed_9a2c_f8e4e3aae442row6_col3,#T_43a18e34_d6fd_11ed_9a2c_f8e4e3aae442row10_col11{\n",
       "            background-color:  #7699f6;\n",
       "            color:  #000000;\n",
       "        }#T_43a18e34_d6fd_11ed_9a2c_f8e4e3aae442row2_col1,#T_43a18e34_d6fd_11ed_9a2c_f8e4e3aae442row7_col3{\n",
       "            background-color:  #4055c8;\n",
       "            color:  #f1f1f1;\n",
       "        }#T_43a18e34_d6fd_11ed_9a2c_f8e4e3aae442row2_col3,#T_43a18e34_d6fd_11ed_9a2c_f8e4e3aae442row8_col1{\n",
       "            background-color:  #6f92f3;\n",
       "            color:  #000000;\n",
       "        }#T_43a18e34_d6fd_11ed_9a2c_f8e4e3aae442row2_col4{\n",
       "            background-color:  #e0654f;\n",
       "            color:  #000000;\n",
       "        }#T_43a18e34_d6fd_11ed_9a2c_f8e4e3aae442row2_col5,#T_43a18e34_d6fd_11ed_9a2c_f8e4e3aae442row7_col12{\n",
       "            background-color:  #6687ed;\n",
       "            color:  #000000;\n",
       "        }#T_43a18e34_d6fd_11ed_9a2c_f8e4e3aae442row2_col6{\n",
       "            background-color:  #ee8669;\n",
       "            color:  #000000;\n",
       "        }#T_43a18e34_d6fd_11ed_9a2c_f8e4e3aae442row2_col7,#T_43a18e34_d6fd_11ed_9a2c_f8e4e3aae442row4_col1,#T_43a18e34_d6fd_11ed_9a2c_f8e4e3aae442row11_col8{\n",
       "            background-color:  #445acc;\n",
       "            color:  #f1f1f1;\n",
       "        }#T_43a18e34_d6fd_11ed_9a2c_f8e4e3aae442row2_col9{\n",
       "            background-color:  #ea7b60;\n",
       "            color:  #000000;\n",
       "        }#T_43a18e34_d6fd_11ed_9a2c_f8e4e3aae442row2_col10,#T_43a18e34_d6fd_11ed_9a2c_f8e4e3aae442row13_col1{\n",
       "            background-color:  #f1cdba;\n",
       "            color:  #000000;\n",
       "        }#T_43a18e34_d6fd_11ed_9a2c_f8e4e3aae442row2_col11,#T_43a18e34_d6fd_11ed_9a2c_f8e4e3aae442row11_col9,#T_43a18e34_d6fd_11ed_9a2c_f8e4e3aae442row12_col3{\n",
       "            background-color:  #4c66d6;\n",
       "            color:  #000000;\n",
       "        }#T_43a18e34_d6fd_11ed_9a2c_f8e4e3aae442row2_col12,#T_43a18e34_d6fd_11ed_9a2c_f8e4e3aae442row6_col12,#T_43a18e34_d6fd_11ed_9a2c_f8e4e3aae442row12_col6{\n",
       "            background-color:  #f29072;\n",
       "            color:  #000000;\n",
       "        }#T_43a18e34_d6fd_11ed_9a2c_f8e4e3aae442row2_col13{\n",
       "            background-color:  #688aef;\n",
       "            color:  #000000;\n",
       "        }#T_43a18e34_d6fd_11ed_9a2c_f8e4e3aae442row3_col0{\n",
       "            background-color:  #89acfd;\n",
       "            color:  #000000;\n",
       "        }#T_43a18e34_d6fd_11ed_9a2c_f8e4e3aae442row3_col1{\n",
       "            background-color:  #aac7fd;\n",
       "            color:  #000000;\n",
       "        }#T_43a18e34_d6fd_11ed_9a2c_f8e4e3aae442row3_col2{\n",
       "            background-color:  #cfdaea;\n",
       "            color:  #000000;\n",
       "        }#T_43a18e34_d6fd_11ed_9a2c_f8e4e3aae442row3_col4{\n",
       "            background-color:  #d9dce1;\n",
       "            color:  #000000;\n",
       "        }#T_43a18e34_d6fd_11ed_9a2c_f8e4e3aae442row3_col5{\n",
       "            background-color:  #cbd8ee;\n",
       "            color:  #000000;\n",
       "        }#T_43a18e34_d6fd_11ed_9a2c_f8e4e3aae442row3_col6{\n",
       "            background-color:  #d7dce3;\n",
       "            color:  #000000;\n",
       "        }#T_43a18e34_d6fd_11ed_9a2c_f8e4e3aae442row3_col7{\n",
       "            background-color:  #b9d0f9;\n",
       "            color:  #000000;\n",
       "        }#T_43a18e34_d6fd_11ed_9a2c_f8e4e3aae442row3_col8,#T_43a18e34_d6fd_11ed_9a2c_f8e4e3aae442row3_col9{\n",
       "            background-color:  #a7c5fe;\n",
       "            color:  #000000;\n",
       "        }#T_43a18e34_d6fd_11ed_9a2c_f8e4e3aae442row3_col10{\n",
       "            background-color:  #8fb1fe;\n",
       "            color:  #000000;\n",
       "        }#T_43a18e34_d6fd_11ed_9a2c_f8e4e3aae442row3_col11{\n",
       "            background-color:  #adc9fd;\n",
       "            color:  #000000;\n",
       "        }#T_43a18e34_d6fd_11ed_9a2c_f8e4e3aae442row3_col12{\n",
       "            background-color:  #bed2f6;\n",
       "            color:  #000000;\n",
       "        }#T_43a18e34_d6fd_11ed_9a2c_f8e4e3aae442row3_col13{\n",
       "            background-color:  #e3d9d3;\n",
       "            color:  #000000;\n",
       "        }#T_43a18e34_d6fd_11ed_9a2c_f8e4e3aae442row4_col0,#T_43a18e34_d6fd_11ed_9a2c_f8e4e3aae442row12_col10{\n",
       "            background-color:  #efcebd;\n",
       "            color:  #000000;\n",
       "        }#T_43a18e34_d6fd_11ed_9a2c_f8e4e3aae442row4_col2{\n",
       "            background-color:  #e16751;\n",
       "            color:  #000000;\n",
       "        }#T_43a18e34_d6fd_11ed_9a2c_f8e4e3aae442row4_col3,#T_43a18e34_d6fd_11ed_9a2c_f8e4e3aae442row5_col3,#T_43a18e34_d6fd_11ed_9a2c_f8e4e3aae442row5_col8{\n",
       "            background-color:  #779af7;\n",
       "            color:  #000000;\n",
       "        }#T_43a18e34_d6fd_11ed_9a2c_f8e4e3aae442row4_col5,#T_43a18e34_d6fd_11ed_9a2c_f8e4e3aae442row13_col4{\n",
       "            background-color:  #799cf8;\n",
       "            color:  #000000;\n",
       "        }#T_43a18e34_d6fd_11ed_9a2c_f8e4e3aae442row4_col6{\n",
       "            background-color:  #e46e56;\n",
       "            color:  #000000;\n",
       "        }#T_43a18e34_d6fd_11ed_9a2c_f8e4e3aae442row4_col7,#T_43a18e34_d6fd_11ed_9a2c_f8e4e3aae442row6_col1,#T_43a18e34_d6fd_11ed_9a2c_f8e4e3aae442row7_col2,#T_43a18e34_d6fd_11ed_9a2c_f8e4e3aae442row7_col4,#T_43a18e34_d6fd_11ed_9a2c_f8e4e3aae442row7_col6,#T_43a18e34_d6fd_11ed_9a2c_f8e4e3aae442row7_col8,#T_43a18e34_d6fd_11ed_9a2c_f8e4e3aae442row7_col9,#T_43a18e34_d6fd_11ed_9a2c_f8e4e3aae442row8_col11,#T_43a18e34_d6fd_11ed_9a2c_f8e4e3aae442row9_col11,#T_43a18e34_d6fd_11ed_9a2c_f8e4e3aae442row10_col3,#T_43a18e34_d6fd_11ed_9a2c_f8e4e3aae442row11_col0,#T_43a18e34_d6fd_11ed_9a2c_f8e4e3aae442row12_col5,#T_43a18e34_d6fd_11ed_9a2c_f8e4e3aae442row12_col13,#T_43a18e34_d6fd_11ed_9a2c_f8e4e3aae442row13_col0,#T_43a18e34_d6fd_11ed_9a2c_f8e4e3aae442row13_col10,#T_43a18e34_d6fd_11ed_9a2c_f8e4e3aae442row13_col12{\n",
       "            background-color:  #3b4cc0;\n",
       "            color:  #f1f1f1;\n",
       "        }#T_43a18e34_d6fd_11ed_9a2c_f8e4e3aae442row4_col8{\n",
       "            background-color:  #f59d7e;\n",
       "            color:  #000000;\n",
       "        }#T_43a18e34_d6fd_11ed_9a2c_f8e4e3aae442row4_col9{\n",
       "            background-color:  #f08b6e;\n",
       "            color:  #000000;\n",
       "        }#T_43a18e34_d6fd_11ed_9a2c_f8e4e3aae442row4_col10{\n",
       "            background-color:  #d3dbe7;\n",
       "            color:  #000000;\n",
       "        }#T_43a18e34_d6fd_11ed_9a2c_f8e4e3aae442row4_col11{\n",
       "            background-color:  #485fd1;\n",
       "            color:  #f1f1f1;\n",
       "        }#T_43a18e34_d6fd_11ed_9a2c_f8e4e3aae442row4_col12,#T_43a18e34_d6fd_11ed_9a2c_f8e4e3aae442row8_col2{\n",
       "            background-color:  #f39475;\n",
       "            color:  #000000;\n",
       "        }#T_43a18e34_d6fd_11ed_9a2c_f8e4e3aae442row4_col13{\n",
       "            background-color:  #7396f5;\n",
       "            color:  #000000;\n",
       "        }#T_43a18e34_d6fd_11ed_9a2c_f8e4e3aae442row5_col1{\n",
       "            background-color:  #ebd3c6;\n",
       "            color:  #000000;\n",
       "        }#T_43a18e34_d6fd_11ed_9a2c_f8e4e3aae442row5_col4,#T_43a18e34_d6fd_11ed_9a2c_f8e4e3aae442row13_col3{\n",
       "            background-color:  #92b4fe;\n",
       "            color:  #000000;\n",
       "        }#T_43a18e34_d6fd_11ed_9a2c_f8e4e3aae442row5_col6{\n",
       "            background-color:  #9bbcff;\n",
       "            color:  #000000;\n",
       "        }#T_43a18e34_d6fd_11ed_9a2c_f8e4e3aae442row5_col7{\n",
       "            background-color:  #ead5c9;\n",
       "            color:  #000000;\n",
       "        }#T_43a18e34_d6fd_11ed_9a2c_f8e4e3aae442row5_col9,#T_43a18e34_d6fd_11ed_9a2c_f8e4e3aae442row10_col5{\n",
       "            background-color:  #6c8ff1;\n",
       "            color:  #000000;\n",
       "        }#T_43a18e34_d6fd_11ed_9a2c_f8e4e3aae442row5_col10,#T_43a18e34_d6fd_11ed_9a2c_f8e4e3aae442row12_col1{\n",
       "            background-color:  #5977e3;\n",
       "            color:  #000000;\n",
       "        }#T_43a18e34_d6fd_11ed_9a2c_f8e4e3aae442row5_col11{\n",
       "            background-color:  #bfd3f6;\n",
       "            color:  #000000;\n",
       "        }#T_43a18e34_d6fd_11ed_9a2c_f8e4e3aae442row5_col12{\n",
       "            background-color:  #506bda;\n",
       "            color:  #000000;\n",
       "        }#T_43a18e34_d6fd_11ed_9a2c_f8e4e3aae442row5_col13{\n",
       "            background-color:  #e9785d;\n",
       "            color:  #000000;\n",
       "        }#T_43a18e34_d6fd_11ed_9a2c_f8e4e3aae442row6_col0{\n",
       "            background-color:  #e5d8d1;\n",
       "            color:  #000000;\n",
       "        }#T_43a18e34_d6fd_11ed_9a2c_f8e4e3aae442row6_col2{\n",
       "            background-color:  #ef886b;\n",
       "            color:  #000000;\n",
       "        }#T_43a18e34_d6fd_11ed_9a2c_f8e4e3aae442row6_col4{\n",
       "            background-color:  #e36c55;\n",
       "            color:  #000000;\n",
       "        }#T_43a18e34_d6fd_11ed_9a2c_f8e4e3aae442row6_col5{\n",
       "            background-color:  #86a9fc;\n",
       "            color:  #000000;\n",
       "        }#T_43a18e34_d6fd_11ed_9a2c_f8e4e3aae442row6_col7{\n",
       "            background-color:  #3e51c5;\n",
       "            color:  #f1f1f1;\n",
       "        }#T_43a18e34_d6fd_11ed_9a2c_f8e4e3aae442row6_col8{\n",
       "            background-color:  #f5c1a9;\n",
       "            color:  #000000;\n",
       "        }#T_43a18e34_d6fd_11ed_9a2c_f8e4e3aae442row6_col9{\n",
       "            background-color:  #f7b497;\n",
       "            color:  #000000;\n",
       "        }#T_43a18e34_d6fd_11ed_9a2c_f8e4e3aae442row6_col10,#T_43a18e34_d6fd_11ed_9a2c_f8e4e3aae442row7_col11{\n",
       "            background-color:  #dfdbd9;\n",
       "            color:  #000000;\n",
       "        }#T_43a18e34_d6fd_11ed_9a2c_f8e4e3aae442row6_col11{\n",
       "            background-color:  #5f7fe8;\n",
       "            color:  #000000;\n",
       "        }#T_43a18e34_d6fd_11ed_9a2c_f8e4e3aae442row6_col13{\n",
       "            background-color:  #7ea1fa;\n",
       "            color:  #000000;\n",
       "        }#T_43a18e34_d6fd_11ed_9a2c_f8e4e3aae442row7_col0{\n",
       "            background-color:  #3c4ec2;\n",
       "            color:  #f1f1f1;\n",
       "        }#T_43a18e34_d6fd_11ed_9a2c_f8e4e3aae442row7_col1{\n",
       "            background-color:  #f08a6c;\n",
       "            color:  #000000;\n",
       "        }#T_43a18e34_d6fd_11ed_9a2c_f8e4e3aae442row7_col5{\n",
       "            background-color:  #dedcdb;\n",
       "            color:  #000000;\n",
       "        }#T_43a18e34_d6fd_11ed_9a2c_f8e4e3aae442row7_col10{\n",
       "            background-color:  #7597f6;\n",
       "            color:  #000000;\n",
       "        }#T_43a18e34_d6fd_11ed_9a2c_f8e4e3aae442row7_col13{\n",
       "            background-color:  #edd2c3;\n",
       "            color:  #000000;\n",
       "        }#T_43a18e34_d6fd_11ed_9a2c_f8e4e3aae442row8_col4{\n",
       "            background-color:  #f18d6f;\n",
       "            color:  #000000;\n",
       "        }#T_43a18e34_d6fd_11ed_9a2c_f8e4e3aae442row8_col5{\n",
       "            background-color:  #8db0fe;\n",
       "            color:  #000000;\n",
       "        }#T_43a18e34_d6fd_11ed_9a2c_f8e4e3aae442row8_col6{\n",
       "            background-color:  #f7b093;\n",
       "            color:  #000000;\n",
       "        }#T_43a18e34_d6fd_11ed_9a2c_f8e4e3aae442row8_col7,#T_43a18e34_d6fd_11ed_9a2c_f8e4e3aae442row9_col13,#T_43a18e34_d6fd_11ed_9a2c_f8e4e3aae442row12_col7{\n",
       "            background-color:  #6b8df0;\n",
       "            color:  #000000;\n",
       "        }#T_43a18e34_d6fd_11ed_9a2c_f8e4e3aae442row8_col9{\n",
       "            background-color:  #c83836;\n",
       "            color:  #f1f1f1;\n",
       "        }#T_43a18e34_d6fd_11ed_9a2c_f8e4e3aae442row8_col10{\n",
       "            background-color:  #f6bea4;\n",
       "            color:  #000000;\n",
       "        }#T_43a18e34_d6fd_11ed_9a2c_f8e4e3aae442row8_col12{\n",
       "            background-color:  #f7aa8c;\n",
       "            color:  #000000;\n",
       "        }#T_43a18e34_d6fd_11ed_9a2c_f8e4e3aae442row8_col13,#T_43a18e34_d6fd_11ed_9a2c_f8e4e3aae442row11_col2{\n",
       "            background-color:  #7da0f9;\n",
       "            color:  #000000;\n",
       "        }#T_43a18e34_d6fd_11ed_9a2c_f8e4e3aae442row9_col0,#T_43a18e34_d6fd_11ed_9a2c_f8e4e3aae442row12_col9{\n",
       "            background-color:  #f7ac8e;\n",
       "            color:  #000000;\n",
       "        }#T_43a18e34_d6fd_11ed_9a2c_f8e4e3aae442row9_col1{\n",
       "            background-color:  #6e90f2;\n",
       "            color:  #000000;\n",
       "        }#T_43a18e34_d6fd_11ed_9a2c_f8e4e3aae442row9_col2{\n",
       "            background-color:  #e67259;\n",
       "            color:  #000000;\n",
       "        }#T_43a18e34_d6fd_11ed_9a2c_f8e4e3aae442row9_col6{\n",
       "            background-color:  #f7a688;\n",
       "            color:  #000000;\n",
       "        }#T_43a18e34_d6fd_11ed_9a2c_f8e4e3aae442row9_col7,#T_43a18e34_d6fd_11ed_9a2c_f8e4e3aae442row10_col13,#T_43a18e34_d6fd_11ed_9a2c_f8e4e3aae442row13_col2{\n",
       "            background-color:  #6384eb;\n",
       "            color:  #000000;\n",
       "        }#T_43a18e34_d6fd_11ed_9a2c_f8e4e3aae442row9_col8{\n",
       "            background-color:  #ca3b37;\n",
       "            color:  #f1f1f1;\n",
       "        }#T_43a18e34_d6fd_11ed_9a2c_f8e4e3aae442row9_col10,#T_43a18e34_d6fd_11ed_9a2c_f8e4e3aae442row10_col8{\n",
       "            background-color:  #f6bfa6;\n",
       "            color:  #000000;\n",
       "        }#T_43a18e34_d6fd_11ed_9a2c_f8e4e3aae442row9_col12{\n",
       "            background-color:  #f59f80;\n",
       "            color:  #000000;\n",
       "        }#T_43a18e34_d6fd_11ed_9a2c_f8e4e3aae442row10_col0{\n",
       "            background-color:  #dadce0;\n",
       "            color:  #000000;\n",
       "        }#T_43a18e34_d6fd_11ed_9a2c_f8e4e3aae442row10_col1{\n",
       "            background-color:  #5e7de7;\n",
       "            color:  #000000;\n",
       "        }#T_43a18e34_d6fd_11ed_9a2c_f8e4e3aae442row10_col2,#T_43a18e34_d6fd_11ed_9a2c_f8e4e3aae442row10_col12{\n",
       "            background-color:  #f5c0a7;\n",
       "            color:  #000000;\n",
       "        }#T_43a18e34_d6fd_11ed_9a2c_f8e4e3aae442row10_col4{\n",
       "            background-color:  #e7d7ce;\n",
       "            color:  #000000;\n",
       "        }#T_43a18e34_d6fd_11ed_9a2c_f8e4e3aae442row10_col6,#T_43a18e34_d6fd_11ed_9a2c_f8e4e3aae442row13_col7{\n",
       "            background-color:  #eed0c0;\n",
       "            color:  #000000;\n",
       "        }#T_43a18e34_d6fd_11ed_9a2c_f8e4e3aae442row10_col7{\n",
       "            background-color:  #9fbfff;\n",
       "            color:  #000000;\n",
       "        }#T_43a18e34_d6fd_11ed_9a2c_f8e4e3aae442row10_col9{\n",
       "            background-color:  #f6bda2;\n",
       "            color:  #000000;\n",
       "        }#T_43a18e34_d6fd_11ed_9a2c_f8e4e3aae442row11_col1{\n",
       "            background-color:  #d6dce4;\n",
       "            color:  #000000;\n",
       "        }#T_43a18e34_d6fd_11ed_9a2c_f8e4e3aae442row11_col3{\n",
       "            background-color:  #6a8bef;\n",
       "            color:  #000000;\n",
       "        }#T_43a18e34_d6fd_11ed_9a2c_f8e4e3aae442row11_col5{\n",
       "            background-color:  #d2dbe8;\n",
       "            color:  #000000;\n",
       "        }#T_43a18e34_d6fd_11ed_9a2c_f8e4e3aae442row11_col6{\n",
       "            background-color:  #94b6ff;\n",
       "            color:  #000000;\n",
       "        }#T_43a18e34_d6fd_11ed_9a2c_f8e4e3aae442row11_col7{\n",
       "            background-color:  #f2cbb7;\n",
       "            color:  #000000;\n",
       "        }#T_43a18e34_d6fd_11ed_9a2c_f8e4e3aae442row11_col12,#T_43a18e34_d6fd_11ed_9a2c_f8e4e3aae442row13_col6{\n",
       "            background-color:  #80a3fa;\n",
       "            color:  #000000;\n",
       "        }#T_43a18e34_d6fd_11ed_9a2c_f8e4e3aae442row11_col13{\n",
       "            background-color:  #f3c7b1;\n",
       "            color:  #000000;\n",
       "        }#T_43a18e34_d6fd_11ed_9a2c_f8e4e3aae442row12_col0{\n",
       "            background-color:  #f2c9b4;\n",
       "            color:  #000000;\n",
       "        }#T_43a18e34_d6fd_11ed_9a2c_f8e4e3aae442row12_col2,#T_43a18e34_d6fd_11ed_9a2c_f8e4e3aae442row12_col4{\n",
       "            background-color:  #f29274;\n",
       "            color:  #000000;\n",
       "        }#T_43a18e34_d6fd_11ed_9a2c_f8e4e3aae442row12_col8{\n",
       "            background-color:  #f7ba9f;\n",
       "            color:  #000000;\n",
       "        }#T_43a18e34_d6fd_11ed_9a2c_f8e4e3aae442row12_col11{\n",
       "            background-color:  #4a63d3;\n",
       "            color:  #f1f1f1;\n",
       "        }#T_43a18e34_d6fd_11ed_9a2c_f8e4e3aae442row13_col11{\n",
       "            background-color:  #e6d7cf;\n",
       "            color:  #000000;\n",
       "        }</style><table id=\"T_43a18e34_d6fd_11ed_9a2c_f8e4e3aae442\" ><thead>    <tr>        <th class=\"blank level0\" ></th>        <th class=\"col_heading level0 col0\" >CRIM</th>        <th class=\"col_heading level0 col1\" >ZN</th>        <th class=\"col_heading level0 col2\" >INDUS</th>        <th class=\"col_heading level0 col3\" >CHAS</th>        <th class=\"col_heading level0 col4\" >NOX</th>        <th class=\"col_heading level0 col5\" >RM</th>        <th class=\"col_heading level0 col6\" >AGE</th>        <th class=\"col_heading level0 col7\" >DIS</th>        <th class=\"col_heading level0 col8\" >RAD</th>        <th class=\"col_heading level0 col9\" >TAX</th>        <th class=\"col_heading level0 col10\" >PTRATIO</th>        <th class=\"col_heading level0 col11\" >B</th>        <th class=\"col_heading level0 col12\" >LSTAT</th>        <th class=\"col_heading level0 col13\" >Price</th>    </tr></thead><tbody>\n",
       "                <tr>\n",
       "                        <th id=\"T_43a18e34_d6fd_11ed_9a2c_f8e4e3aae442level0_row0\" class=\"row_heading level0 row0\" >CRIM</th>\n",
       "                        <td id=\"T_43a18e34_d6fd_11ed_9a2c_f8e4e3aae442row0_col0\" class=\"data row0 col0\" >1.00</td>\n",
       "                        <td id=\"T_43a18e34_d6fd_11ed_9a2c_f8e4e3aae442row0_col1\" class=\"data row0 col1\" >-0.20</td>\n",
       "                        <td id=\"T_43a18e34_d6fd_11ed_9a2c_f8e4e3aae442row0_col2\" class=\"data row0 col2\" >0.41</td>\n",
       "                        <td id=\"T_43a18e34_d6fd_11ed_9a2c_f8e4e3aae442row0_col3\" class=\"data row0 col3\" >-0.06</td>\n",
       "                        <td id=\"T_43a18e34_d6fd_11ed_9a2c_f8e4e3aae442row0_col4\" class=\"data row0 col4\" >0.42</td>\n",
       "                        <td id=\"T_43a18e34_d6fd_11ed_9a2c_f8e4e3aae442row0_col5\" class=\"data row0 col5\" >-0.22</td>\n",
       "                        <td id=\"T_43a18e34_d6fd_11ed_9a2c_f8e4e3aae442row0_col6\" class=\"data row0 col6\" >0.35</td>\n",
       "                        <td id=\"T_43a18e34_d6fd_11ed_9a2c_f8e4e3aae442row0_col7\" class=\"data row0 col7\" >-0.38</td>\n",
       "                        <td id=\"T_43a18e34_d6fd_11ed_9a2c_f8e4e3aae442row0_col8\" class=\"data row0 col8\" >0.63</td>\n",
       "                        <td id=\"T_43a18e34_d6fd_11ed_9a2c_f8e4e3aae442row0_col9\" class=\"data row0 col9\" >0.58</td>\n",
       "                        <td id=\"T_43a18e34_d6fd_11ed_9a2c_f8e4e3aae442row0_col10\" class=\"data row0 col10\" >0.29</td>\n",
       "                        <td id=\"T_43a18e34_d6fd_11ed_9a2c_f8e4e3aae442row0_col11\" class=\"data row0 col11\" >-0.39</td>\n",
       "                        <td id=\"T_43a18e34_d6fd_11ed_9a2c_f8e4e3aae442row0_col12\" class=\"data row0 col12\" >0.46</td>\n",
       "                        <td id=\"T_43a18e34_d6fd_11ed_9a2c_f8e4e3aae442row0_col13\" class=\"data row0 col13\" >-0.39</td>\n",
       "            </tr>\n",
       "            <tr>\n",
       "                        <th id=\"T_43a18e34_d6fd_11ed_9a2c_f8e4e3aae442level0_row1\" class=\"row_heading level0 row1\" >ZN</th>\n",
       "                        <td id=\"T_43a18e34_d6fd_11ed_9a2c_f8e4e3aae442row1_col0\" class=\"data row1 col0\" >-0.20</td>\n",
       "                        <td id=\"T_43a18e34_d6fd_11ed_9a2c_f8e4e3aae442row1_col1\" class=\"data row1 col1\" >1.00</td>\n",
       "                        <td id=\"T_43a18e34_d6fd_11ed_9a2c_f8e4e3aae442row1_col2\" class=\"data row1 col2\" >-0.53</td>\n",
       "                        <td id=\"T_43a18e34_d6fd_11ed_9a2c_f8e4e3aae442row1_col3\" class=\"data row1 col3\" >-0.04</td>\n",
       "                        <td id=\"T_43a18e34_d6fd_11ed_9a2c_f8e4e3aae442row1_col4\" class=\"data row1 col4\" >-0.52</td>\n",
       "                        <td id=\"T_43a18e34_d6fd_11ed_9a2c_f8e4e3aae442row1_col5\" class=\"data row1 col5\" >0.31</td>\n",
       "                        <td id=\"T_43a18e34_d6fd_11ed_9a2c_f8e4e3aae442row1_col6\" class=\"data row1 col6\" >-0.57</td>\n",
       "                        <td id=\"T_43a18e34_d6fd_11ed_9a2c_f8e4e3aae442row1_col7\" class=\"data row1 col7\" >0.66</td>\n",
       "                        <td id=\"T_43a18e34_d6fd_11ed_9a2c_f8e4e3aae442row1_col8\" class=\"data row1 col8\" >-0.31</td>\n",
       "                        <td id=\"T_43a18e34_d6fd_11ed_9a2c_f8e4e3aae442row1_col9\" class=\"data row1 col9\" >-0.31</td>\n",
       "                        <td id=\"T_43a18e34_d6fd_11ed_9a2c_f8e4e3aae442row1_col10\" class=\"data row1 col10\" >-0.39</td>\n",
       "                        <td id=\"T_43a18e34_d6fd_11ed_9a2c_f8e4e3aae442row1_col11\" class=\"data row1 col11\" >0.18</td>\n",
       "                        <td id=\"T_43a18e34_d6fd_11ed_9a2c_f8e4e3aae442row1_col12\" class=\"data row1 col12\" >-0.41</td>\n",
       "                        <td id=\"T_43a18e34_d6fd_11ed_9a2c_f8e4e3aae442row1_col13\" class=\"data row1 col13\" >0.36</td>\n",
       "            </tr>\n",
       "            <tr>\n",
       "                        <th id=\"T_43a18e34_d6fd_11ed_9a2c_f8e4e3aae442level0_row2\" class=\"row_heading level0 row2\" >INDUS</th>\n",
       "                        <td id=\"T_43a18e34_d6fd_11ed_9a2c_f8e4e3aae442row2_col0\" class=\"data row2 col0\" >0.41</td>\n",
       "                        <td id=\"T_43a18e34_d6fd_11ed_9a2c_f8e4e3aae442row2_col1\" class=\"data row2 col1\" >-0.53</td>\n",
       "                        <td id=\"T_43a18e34_d6fd_11ed_9a2c_f8e4e3aae442row2_col2\" class=\"data row2 col2\" >1.00</td>\n",
       "                        <td id=\"T_43a18e34_d6fd_11ed_9a2c_f8e4e3aae442row2_col3\" class=\"data row2 col3\" >0.06</td>\n",
       "                        <td id=\"T_43a18e34_d6fd_11ed_9a2c_f8e4e3aae442row2_col4\" class=\"data row2 col4\" >0.76</td>\n",
       "                        <td id=\"T_43a18e34_d6fd_11ed_9a2c_f8e4e3aae442row2_col5\" class=\"data row2 col5\" >-0.39</td>\n",
       "                        <td id=\"T_43a18e34_d6fd_11ed_9a2c_f8e4e3aae442row2_col6\" class=\"data row2 col6\" >0.64</td>\n",
       "                        <td id=\"T_43a18e34_d6fd_11ed_9a2c_f8e4e3aae442row2_col7\" class=\"data row2 col7\" >-0.71</td>\n",
       "                        <td id=\"T_43a18e34_d6fd_11ed_9a2c_f8e4e3aae442row2_col8\" class=\"data row2 col8\" >0.60</td>\n",
       "                        <td id=\"T_43a18e34_d6fd_11ed_9a2c_f8e4e3aae442row2_col9\" class=\"data row2 col9\" >0.72</td>\n",
       "                        <td id=\"T_43a18e34_d6fd_11ed_9a2c_f8e4e3aae442row2_col10\" class=\"data row2 col10\" >0.38</td>\n",
       "                        <td id=\"T_43a18e34_d6fd_11ed_9a2c_f8e4e3aae442row2_col11\" class=\"data row2 col11\" >-0.36</td>\n",
       "                        <td id=\"T_43a18e34_d6fd_11ed_9a2c_f8e4e3aae442row2_col12\" class=\"data row2 col12\" >0.60</td>\n",
       "                        <td id=\"T_43a18e34_d6fd_11ed_9a2c_f8e4e3aae442row2_col13\" class=\"data row2 col13\" >-0.48</td>\n",
       "            </tr>\n",
       "            <tr>\n",
       "                        <th id=\"T_43a18e34_d6fd_11ed_9a2c_f8e4e3aae442level0_row3\" class=\"row_heading level0 row3\" >CHAS</th>\n",
       "                        <td id=\"T_43a18e34_d6fd_11ed_9a2c_f8e4e3aae442row3_col0\" class=\"data row3 col0\" >-0.06</td>\n",
       "                        <td id=\"T_43a18e34_d6fd_11ed_9a2c_f8e4e3aae442row3_col1\" class=\"data row3 col1\" >-0.04</td>\n",
       "                        <td id=\"T_43a18e34_d6fd_11ed_9a2c_f8e4e3aae442row3_col2\" class=\"data row3 col2\" >0.06</td>\n",
       "                        <td id=\"T_43a18e34_d6fd_11ed_9a2c_f8e4e3aae442row3_col3\" class=\"data row3 col3\" >1.00</td>\n",
       "                        <td id=\"T_43a18e34_d6fd_11ed_9a2c_f8e4e3aae442row3_col4\" class=\"data row3 col4\" >0.09</td>\n",
       "                        <td id=\"T_43a18e34_d6fd_11ed_9a2c_f8e4e3aae442row3_col5\" class=\"data row3 col5\" >0.09</td>\n",
       "                        <td id=\"T_43a18e34_d6fd_11ed_9a2c_f8e4e3aae442row3_col6\" class=\"data row3 col6\" >0.09</td>\n",
       "                        <td id=\"T_43a18e34_d6fd_11ed_9a2c_f8e4e3aae442row3_col7\" class=\"data row3 col7\" >-0.10</td>\n",
       "                        <td id=\"T_43a18e34_d6fd_11ed_9a2c_f8e4e3aae442row3_col8\" class=\"data row3 col8\" >-0.01</td>\n",
       "                        <td id=\"T_43a18e34_d6fd_11ed_9a2c_f8e4e3aae442row3_col9\" class=\"data row3 col9\" >-0.04</td>\n",
       "                        <td id=\"T_43a18e34_d6fd_11ed_9a2c_f8e4e3aae442row3_col10\" class=\"data row3 col10\" >-0.12</td>\n",
       "                        <td id=\"T_43a18e34_d6fd_11ed_9a2c_f8e4e3aae442row3_col11\" class=\"data row3 col11\" >0.05</td>\n",
       "                        <td id=\"T_43a18e34_d6fd_11ed_9a2c_f8e4e3aae442row3_col12\" class=\"data row3 col12\" >-0.05</td>\n",
       "                        <td id=\"T_43a18e34_d6fd_11ed_9a2c_f8e4e3aae442row3_col13\" class=\"data row3 col13\" >0.18</td>\n",
       "            </tr>\n",
       "            <tr>\n",
       "                        <th id=\"T_43a18e34_d6fd_11ed_9a2c_f8e4e3aae442level0_row4\" class=\"row_heading level0 row4\" >NOX</th>\n",
       "                        <td id=\"T_43a18e34_d6fd_11ed_9a2c_f8e4e3aae442row4_col0\" class=\"data row4 col0\" >0.42</td>\n",
       "                        <td id=\"T_43a18e34_d6fd_11ed_9a2c_f8e4e3aae442row4_col1\" class=\"data row4 col1\" >-0.52</td>\n",
       "                        <td id=\"T_43a18e34_d6fd_11ed_9a2c_f8e4e3aae442row4_col2\" class=\"data row4 col2\" >0.76</td>\n",
       "                        <td id=\"T_43a18e34_d6fd_11ed_9a2c_f8e4e3aae442row4_col3\" class=\"data row4 col3\" >0.09</td>\n",
       "                        <td id=\"T_43a18e34_d6fd_11ed_9a2c_f8e4e3aae442row4_col4\" class=\"data row4 col4\" >1.00</td>\n",
       "                        <td id=\"T_43a18e34_d6fd_11ed_9a2c_f8e4e3aae442row4_col5\" class=\"data row4 col5\" >-0.30</td>\n",
       "                        <td id=\"T_43a18e34_d6fd_11ed_9a2c_f8e4e3aae442row4_col6\" class=\"data row4 col6\" >0.73</td>\n",
       "                        <td id=\"T_43a18e34_d6fd_11ed_9a2c_f8e4e3aae442row4_col7\" class=\"data row4 col7\" >-0.77</td>\n",
       "                        <td id=\"T_43a18e34_d6fd_11ed_9a2c_f8e4e3aae442row4_col8\" class=\"data row4 col8\" >0.61</td>\n",
       "                        <td id=\"T_43a18e34_d6fd_11ed_9a2c_f8e4e3aae442row4_col9\" class=\"data row4 col9\" >0.67</td>\n",
       "                        <td id=\"T_43a18e34_d6fd_11ed_9a2c_f8e4e3aae442row4_col10\" class=\"data row4 col10\" >0.19</td>\n",
       "                        <td id=\"T_43a18e34_d6fd_11ed_9a2c_f8e4e3aae442row4_col11\" class=\"data row4 col11\" >-0.38</td>\n",
       "                        <td id=\"T_43a18e34_d6fd_11ed_9a2c_f8e4e3aae442row4_col12\" class=\"data row4 col12\" >0.59</td>\n",
       "                        <td id=\"T_43a18e34_d6fd_11ed_9a2c_f8e4e3aae442row4_col13\" class=\"data row4 col13\" >-0.43</td>\n",
       "            </tr>\n",
       "            <tr>\n",
       "                        <th id=\"T_43a18e34_d6fd_11ed_9a2c_f8e4e3aae442level0_row5\" class=\"row_heading level0 row5\" >RM</th>\n",
       "                        <td id=\"T_43a18e34_d6fd_11ed_9a2c_f8e4e3aae442row5_col0\" class=\"data row5 col0\" >-0.22</td>\n",
       "                        <td id=\"T_43a18e34_d6fd_11ed_9a2c_f8e4e3aae442row5_col1\" class=\"data row5 col1\" >0.31</td>\n",
       "                        <td id=\"T_43a18e34_d6fd_11ed_9a2c_f8e4e3aae442row5_col2\" class=\"data row5 col2\" >-0.39</td>\n",
       "                        <td id=\"T_43a18e34_d6fd_11ed_9a2c_f8e4e3aae442row5_col3\" class=\"data row5 col3\" >0.09</td>\n",
       "                        <td id=\"T_43a18e34_d6fd_11ed_9a2c_f8e4e3aae442row5_col4\" class=\"data row5 col4\" >-0.30</td>\n",
       "                        <td id=\"T_43a18e34_d6fd_11ed_9a2c_f8e4e3aae442row5_col5\" class=\"data row5 col5\" >1.00</td>\n",
       "                        <td id=\"T_43a18e34_d6fd_11ed_9a2c_f8e4e3aae442row5_col6\" class=\"data row5 col6\" >-0.24</td>\n",
       "                        <td id=\"T_43a18e34_d6fd_11ed_9a2c_f8e4e3aae442row5_col7\" class=\"data row5 col7\" >0.21</td>\n",
       "                        <td id=\"T_43a18e34_d6fd_11ed_9a2c_f8e4e3aae442row5_col8\" class=\"data row5 col8\" >-0.21</td>\n",
       "                        <td id=\"T_43a18e34_d6fd_11ed_9a2c_f8e4e3aae442row5_col9\" class=\"data row5 col9\" >-0.29</td>\n",
       "                        <td id=\"T_43a18e34_d6fd_11ed_9a2c_f8e4e3aae442row5_col10\" class=\"data row5 col10\" >-0.36</td>\n",
       "                        <td id=\"T_43a18e34_d6fd_11ed_9a2c_f8e4e3aae442row5_col11\" class=\"data row5 col11\" >0.13</td>\n",
       "                        <td id=\"T_43a18e34_d6fd_11ed_9a2c_f8e4e3aae442row5_col12\" class=\"data row5 col12\" >-0.61</td>\n",
       "                        <td id=\"T_43a18e34_d6fd_11ed_9a2c_f8e4e3aae442row5_col13\" class=\"data row5 col13\" >0.70</td>\n",
       "            </tr>\n",
       "            <tr>\n",
       "                        <th id=\"T_43a18e34_d6fd_11ed_9a2c_f8e4e3aae442level0_row6\" class=\"row_heading level0 row6\" >AGE</th>\n",
       "                        <td id=\"T_43a18e34_d6fd_11ed_9a2c_f8e4e3aae442row6_col0\" class=\"data row6 col0\" >0.35</td>\n",
       "                        <td id=\"T_43a18e34_d6fd_11ed_9a2c_f8e4e3aae442row6_col1\" class=\"data row6 col1\" >-0.57</td>\n",
       "                        <td id=\"T_43a18e34_d6fd_11ed_9a2c_f8e4e3aae442row6_col2\" class=\"data row6 col2\" >0.64</td>\n",
       "                        <td id=\"T_43a18e34_d6fd_11ed_9a2c_f8e4e3aae442row6_col3\" class=\"data row6 col3\" >0.09</td>\n",
       "                        <td id=\"T_43a18e34_d6fd_11ed_9a2c_f8e4e3aae442row6_col4\" class=\"data row6 col4\" >0.73</td>\n",
       "                        <td id=\"T_43a18e34_d6fd_11ed_9a2c_f8e4e3aae442row6_col5\" class=\"data row6 col5\" >-0.24</td>\n",
       "                        <td id=\"T_43a18e34_d6fd_11ed_9a2c_f8e4e3aae442row6_col6\" class=\"data row6 col6\" >1.00</td>\n",
       "                        <td id=\"T_43a18e34_d6fd_11ed_9a2c_f8e4e3aae442row6_col7\" class=\"data row6 col7\" >-0.75</td>\n",
       "                        <td id=\"T_43a18e34_d6fd_11ed_9a2c_f8e4e3aae442row6_col8\" class=\"data row6 col8\" >0.46</td>\n",
       "                        <td id=\"T_43a18e34_d6fd_11ed_9a2c_f8e4e3aae442row6_col9\" class=\"data row6 col9\" >0.51</td>\n",
       "                        <td id=\"T_43a18e34_d6fd_11ed_9a2c_f8e4e3aae442row6_col10\" class=\"data row6 col10\" >0.26</td>\n",
       "                        <td id=\"T_43a18e34_d6fd_11ed_9a2c_f8e4e3aae442row6_col11\" class=\"data row6 col11\" >-0.27</td>\n",
       "                        <td id=\"T_43a18e34_d6fd_11ed_9a2c_f8e4e3aae442row6_col12\" class=\"data row6 col12\" >0.60</td>\n",
       "                        <td id=\"T_43a18e34_d6fd_11ed_9a2c_f8e4e3aae442row6_col13\" class=\"data row6 col13\" >-0.38</td>\n",
       "            </tr>\n",
       "            <tr>\n",
       "                        <th id=\"T_43a18e34_d6fd_11ed_9a2c_f8e4e3aae442level0_row7\" class=\"row_heading level0 row7\" >DIS</th>\n",
       "                        <td id=\"T_43a18e34_d6fd_11ed_9a2c_f8e4e3aae442row7_col0\" class=\"data row7 col0\" >-0.38</td>\n",
       "                        <td id=\"T_43a18e34_d6fd_11ed_9a2c_f8e4e3aae442row7_col1\" class=\"data row7 col1\" >0.66</td>\n",
       "                        <td id=\"T_43a18e34_d6fd_11ed_9a2c_f8e4e3aae442row7_col2\" class=\"data row7 col2\" >-0.71</td>\n",
       "                        <td id=\"T_43a18e34_d6fd_11ed_9a2c_f8e4e3aae442row7_col3\" class=\"data row7 col3\" >-0.10</td>\n",
       "                        <td id=\"T_43a18e34_d6fd_11ed_9a2c_f8e4e3aae442row7_col4\" class=\"data row7 col4\" >-0.77</td>\n",
       "                        <td id=\"T_43a18e34_d6fd_11ed_9a2c_f8e4e3aae442row7_col5\" class=\"data row7 col5\" >0.21</td>\n",
       "                        <td id=\"T_43a18e34_d6fd_11ed_9a2c_f8e4e3aae442row7_col6\" class=\"data row7 col6\" >-0.75</td>\n",
       "                        <td id=\"T_43a18e34_d6fd_11ed_9a2c_f8e4e3aae442row7_col7\" class=\"data row7 col7\" >1.00</td>\n",
       "                        <td id=\"T_43a18e34_d6fd_11ed_9a2c_f8e4e3aae442row7_col8\" class=\"data row7 col8\" >-0.49</td>\n",
       "                        <td id=\"T_43a18e34_d6fd_11ed_9a2c_f8e4e3aae442row7_col9\" class=\"data row7 col9\" >-0.53</td>\n",
       "                        <td id=\"T_43a18e34_d6fd_11ed_9a2c_f8e4e3aae442row7_col10\" class=\"data row7 col10\" >-0.23</td>\n",
       "                        <td id=\"T_43a18e34_d6fd_11ed_9a2c_f8e4e3aae442row7_col11\" class=\"data row7 col11\" >0.29</td>\n",
       "                        <td id=\"T_43a18e34_d6fd_11ed_9a2c_f8e4e3aae442row7_col12\" class=\"data row7 col12\" >-0.50</td>\n",
       "                        <td id=\"T_43a18e34_d6fd_11ed_9a2c_f8e4e3aae442row7_col13\" class=\"data row7 col13\" >0.25</td>\n",
       "            </tr>\n",
       "            <tr>\n",
       "                        <th id=\"T_43a18e34_d6fd_11ed_9a2c_f8e4e3aae442level0_row8\" class=\"row_heading level0 row8\" >RAD</th>\n",
       "                        <td id=\"T_43a18e34_d6fd_11ed_9a2c_f8e4e3aae442row8_col0\" class=\"data row8 col0\" >0.63</td>\n",
       "                        <td id=\"T_43a18e34_d6fd_11ed_9a2c_f8e4e3aae442row8_col1\" class=\"data row8 col1\" >-0.31</td>\n",
       "                        <td id=\"T_43a18e34_d6fd_11ed_9a2c_f8e4e3aae442row8_col2\" class=\"data row8 col2\" >0.60</td>\n",
       "                        <td id=\"T_43a18e34_d6fd_11ed_9a2c_f8e4e3aae442row8_col3\" class=\"data row8 col3\" >-0.01</td>\n",
       "                        <td id=\"T_43a18e34_d6fd_11ed_9a2c_f8e4e3aae442row8_col4\" class=\"data row8 col4\" >0.61</td>\n",
       "                        <td id=\"T_43a18e34_d6fd_11ed_9a2c_f8e4e3aae442row8_col5\" class=\"data row8 col5\" >-0.21</td>\n",
       "                        <td id=\"T_43a18e34_d6fd_11ed_9a2c_f8e4e3aae442row8_col6\" class=\"data row8 col6\" >0.46</td>\n",
       "                        <td id=\"T_43a18e34_d6fd_11ed_9a2c_f8e4e3aae442row8_col7\" class=\"data row8 col7\" >-0.49</td>\n",
       "                        <td id=\"T_43a18e34_d6fd_11ed_9a2c_f8e4e3aae442row8_col8\" class=\"data row8 col8\" >1.00</td>\n",
       "                        <td id=\"T_43a18e34_d6fd_11ed_9a2c_f8e4e3aae442row8_col9\" class=\"data row8 col9\" >0.91</td>\n",
       "                        <td id=\"T_43a18e34_d6fd_11ed_9a2c_f8e4e3aae442row8_col10\" class=\"data row8 col10\" >0.46</td>\n",
       "                        <td id=\"T_43a18e34_d6fd_11ed_9a2c_f8e4e3aae442row8_col11\" class=\"data row8 col11\" >-0.44</td>\n",
       "                        <td id=\"T_43a18e34_d6fd_11ed_9a2c_f8e4e3aae442row8_col12\" class=\"data row8 col12\" >0.49</td>\n",
       "                        <td id=\"T_43a18e34_d6fd_11ed_9a2c_f8e4e3aae442row8_col13\" class=\"data row8 col13\" >-0.38</td>\n",
       "            </tr>\n",
       "            <tr>\n",
       "                        <th id=\"T_43a18e34_d6fd_11ed_9a2c_f8e4e3aae442level0_row9\" class=\"row_heading level0 row9\" >TAX</th>\n",
       "                        <td id=\"T_43a18e34_d6fd_11ed_9a2c_f8e4e3aae442row9_col0\" class=\"data row9 col0\" >0.58</td>\n",
       "                        <td id=\"T_43a18e34_d6fd_11ed_9a2c_f8e4e3aae442row9_col1\" class=\"data row9 col1\" >-0.31</td>\n",
       "                        <td id=\"T_43a18e34_d6fd_11ed_9a2c_f8e4e3aae442row9_col2\" class=\"data row9 col2\" >0.72</td>\n",
       "                        <td id=\"T_43a18e34_d6fd_11ed_9a2c_f8e4e3aae442row9_col3\" class=\"data row9 col3\" >-0.04</td>\n",
       "                        <td id=\"T_43a18e34_d6fd_11ed_9a2c_f8e4e3aae442row9_col4\" class=\"data row9 col4\" >0.67</td>\n",
       "                        <td id=\"T_43a18e34_d6fd_11ed_9a2c_f8e4e3aae442row9_col5\" class=\"data row9 col5\" >-0.29</td>\n",
       "                        <td id=\"T_43a18e34_d6fd_11ed_9a2c_f8e4e3aae442row9_col6\" class=\"data row9 col6\" >0.51</td>\n",
       "                        <td id=\"T_43a18e34_d6fd_11ed_9a2c_f8e4e3aae442row9_col7\" class=\"data row9 col7\" >-0.53</td>\n",
       "                        <td id=\"T_43a18e34_d6fd_11ed_9a2c_f8e4e3aae442row9_col8\" class=\"data row9 col8\" >0.91</td>\n",
       "                        <td id=\"T_43a18e34_d6fd_11ed_9a2c_f8e4e3aae442row9_col9\" class=\"data row9 col9\" >1.00</td>\n",
       "                        <td id=\"T_43a18e34_d6fd_11ed_9a2c_f8e4e3aae442row9_col10\" class=\"data row9 col10\" >0.46</td>\n",
       "                        <td id=\"T_43a18e34_d6fd_11ed_9a2c_f8e4e3aae442row9_col11\" class=\"data row9 col11\" >-0.44</td>\n",
       "                        <td id=\"T_43a18e34_d6fd_11ed_9a2c_f8e4e3aae442row9_col12\" class=\"data row9 col12\" >0.54</td>\n",
       "                        <td id=\"T_43a18e34_d6fd_11ed_9a2c_f8e4e3aae442row9_col13\" class=\"data row9 col13\" >-0.47</td>\n",
       "            </tr>\n",
       "            <tr>\n",
       "                        <th id=\"T_43a18e34_d6fd_11ed_9a2c_f8e4e3aae442level0_row10\" class=\"row_heading level0 row10\" >PTRATIO</th>\n",
       "                        <td id=\"T_43a18e34_d6fd_11ed_9a2c_f8e4e3aae442row10_col0\" class=\"data row10 col0\" >0.29</td>\n",
       "                        <td id=\"T_43a18e34_d6fd_11ed_9a2c_f8e4e3aae442row10_col1\" class=\"data row10 col1\" >-0.39</td>\n",
       "                        <td id=\"T_43a18e34_d6fd_11ed_9a2c_f8e4e3aae442row10_col2\" class=\"data row10 col2\" >0.38</td>\n",
       "                        <td id=\"T_43a18e34_d6fd_11ed_9a2c_f8e4e3aae442row10_col3\" class=\"data row10 col3\" >-0.12</td>\n",
       "                        <td id=\"T_43a18e34_d6fd_11ed_9a2c_f8e4e3aae442row10_col4\" class=\"data row10 col4\" >0.19</td>\n",
       "                        <td id=\"T_43a18e34_d6fd_11ed_9a2c_f8e4e3aae442row10_col5\" class=\"data row10 col5\" >-0.36</td>\n",
       "                        <td id=\"T_43a18e34_d6fd_11ed_9a2c_f8e4e3aae442row10_col6\" class=\"data row10 col6\" >0.26</td>\n",
       "                        <td id=\"T_43a18e34_d6fd_11ed_9a2c_f8e4e3aae442row10_col7\" class=\"data row10 col7\" >-0.23</td>\n",
       "                        <td id=\"T_43a18e34_d6fd_11ed_9a2c_f8e4e3aae442row10_col8\" class=\"data row10 col8\" >0.46</td>\n",
       "                        <td id=\"T_43a18e34_d6fd_11ed_9a2c_f8e4e3aae442row10_col9\" class=\"data row10 col9\" >0.46</td>\n",
       "                        <td id=\"T_43a18e34_d6fd_11ed_9a2c_f8e4e3aae442row10_col10\" class=\"data row10 col10\" >1.00</td>\n",
       "                        <td id=\"T_43a18e34_d6fd_11ed_9a2c_f8e4e3aae442row10_col11\" class=\"data row10 col11\" >-0.18</td>\n",
       "                        <td id=\"T_43a18e34_d6fd_11ed_9a2c_f8e4e3aae442row10_col12\" class=\"data row10 col12\" >0.37</td>\n",
       "                        <td id=\"T_43a18e34_d6fd_11ed_9a2c_f8e4e3aae442row10_col13\" class=\"data row10 col13\" >-0.51</td>\n",
       "            </tr>\n",
       "            <tr>\n",
       "                        <th id=\"T_43a18e34_d6fd_11ed_9a2c_f8e4e3aae442level0_row11\" class=\"row_heading level0 row11\" >B</th>\n",
       "                        <td id=\"T_43a18e34_d6fd_11ed_9a2c_f8e4e3aae442row11_col0\" class=\"data row11 col0\" >-0.39</td>\n",
       "                        <td id=\"T_43a18e34_d6fd_11ed_9a2c_f8e4e3aae442row11_col1\" class=\"data row11 col1\" >0.18</td>\n",
       "                        <td id=\"T_43a18e34_d6fd_11ed_9a2c_f8e4e3aae442row11_col2\" class=\"data row11 col2\" >-0.36</td>\n",
       "                        <td id=\"T_43a18e34_d6fd_11ed_9a2c_f8e4e3aae442row11_col3\" class=\"data row11 col3\" >0.05</td>\n",
       "                        <td id=\"T_43a18e34_d6fd_11ed_9a2c_f8e4e3aae442row11_col4\" class=\"data row11 col4\" >-0.38</td>\n",
       "                        <td id=\"T_43a18e34_d6fd_11ed_9a2c_f8e4e3aae442row11_col5\" class=\"data row11 col5\" >0.13</td>\n",
       "                        <td id=\"T_43a18e34_d6fd_11ed_9a2c_f8e4e3aae442row11_col6\" class=\"data row11 col6\" >-0.27</td>\n",
       "                        <td id=\"T_43a18e34_d6fd_11ed_9a2c_f8e4e3aae442row11_col7\" class=\"data row11 col7\" >0.29</td>\n",
       "                        <td id=\"T_43a18e34_d6fd_11ed_9a2c_f8e4e3aae442row11_col8\" class=\"data row11 col8\" >-0.44</td>\n",
       "                        <td id=\"T_43a18e34_d6fd_11ed_9a2c_f8e4e3aae442row11_col9\" class=\"data row11 col9\" >-0.44</td>\n",
       "                        <td id=\"T_43a18e34_d6fd_11ed_9a2c_f8e4e3aae442row11_col10\" class=\"data row11 col10\" >-0.18</td>\n",
       "                        <td id=\"T_43a18e34_d6fd_11ed_9a2c_f8e4e3aae442row11_col11\" class=\"data row11 col11\" >1.00</td>\n",
       "                        <td id=\"T_43a18e34_d6fd_11ed_9a2c_f8e4e3aae442row11_col12\" class=\"data row11 col12\" >-0.37</td>\n",
       "                        <td id=\"T_43a18e34_d6fd_11ed_9a2c_f8e4e3aae442row11_col13\" class=\"data row11 col13\" >0.33</td>\n",
       "            </tr>\n",
       "            <tr>\n",
       "                        <th id=\"T_43a18e34_d6fd_11ed_9a2c_f8e4e3aae442level0_row12\" class=\"row_heading level0 row12\" >LSTAT</th>\n",
       "                        <td id=\"T_43a18e34_d6fd_11ed_9a2c_f8e4e3aae442row12_col0\" class=\"data row12 col0\" >0.46</td>\n",
       "                        <td id=\"T_43a18e34_d6fd_11ed_9a2c_f8e4e3aae442row12_col1\" class=\"data row12 col1\" >-0.41</td>\n",
       "                        <td id=\"T_43a18e34_d6fd_11ed_9a2c_f8e4e3aae442row12_col2\" class=\"data row12 col2\" >0.60</td>\n",
       "                        <td id=\"T_43a18e34_d6fd_11ed_9a2c_f8e4e3aae442row12_col3\" class=\"data row12 col3\" >-0.05</td>\n",
       "                        <td id=\"T_43a18e34_d6fd_11ed_9a2c_f8e4e3aae442row12_col4\" class=\"data row12 col4\" >0.59</td>\n",
       "                        <td id=\"T_43a18e34_d6fd_11ed_9a2c_f8e4e3aae442row12_col5\" class=\"data row12 col5\" >-0.61</td>\n",
       "                        <td id=\"T_43a18e34_d6fd_11ed_9a2c_f8e4e3aae442row12_col6\" class=\"data row12 col6\" >0.60</td>\n",
       "                        <td id=\"T_43a18e34_d6fd_11ed_9a2c_f8e4e3aae442row12_col7\" class=\"data row12 col7\" >-0.50</td>\n",
       "                        <td id=\"T_43a18e34_d6fd_11ed_9a2c_f8e4e3aae442row12_col8\" class=\"data row12 col8\" >0.49</td>\n",
       "                        <td id=\"T_43a18e34_d6fd_11ed_9a2c_f8e4e3aae442row12_col9\" class=\"data row12 col9\" >0.54</td>\n",
       "                        <td id=\"T_43a18e34_d6fd_11ed_9a2c_f8e4e3aae442row12_col10\" class=\"data row12 col10\" >0.37</td>\n",
       "                        <td id=\"T_43a18e34_d6fd_11ed_9a2c_f8e4e3aae442row12_col11\" class=\"data row12 col11\" >-0.37</td>\n",
       "                        <td id=\"T_43a18e34_d6fd_11ed_9a2c_f8e4e3aae442row12_col12\" class=\"data row12 col12\" >1.00</td>\n",
       "                        <td id=\"T_43a18e34_d6fd_11ed_9a2c_f8e4e3aae442row12_col13\" class=\"data row12 col13\" >-0.74</td>\n",
       "            </tr>\n",
       "            <tr>\n",
       "                        <th id=\"T_43a18e34_d6fd_11ed_9a2c_f8e4e3aae442level0_row13\" class=\"row_heading level0 row13\" >Price</th>\n",
       "                        <td id=\"T_43a18e34_d6fd_11ed_9a2c_f8e4e3aae442row13_col0\" class=\"data row13 col0\" >-0.39</td>\n",
       "                        <td id=\"T_43a18e34_d6fd_11ed_9a2c_f8e4e3aae442row13_col1\" class=\"data row13 col1\" >0.36</td>\n",
       "                        <td id=\"T_43a18e34_d6fd_11ed_9a2c_f8e4e3aae442row13_col2\" class=\"data row13 col2\" >-0.48</td>\n",
       "                        <td id=\"T_43a18e34_d6fd_11ed_9a2c_f8e4e3aae442row13_col3\" class=\"data row13 col3\" >0.18</td>\n",
       "                        <td id=\"T_43a18e34_d6fd_11ed_9a2c_f8e4e3aae442row13_col4\" class=\"data row13 col4\" >-0.43</td>\n",
       "                        <td id=\"T_43a18e34_d6fd_11ed_9a2c_f8e4e3aae442row13_col5\" class=\"data row13 col5\" >0.70</td>\n",
       "                        <td id=\"T_43a18e34_d6fd_11ed_9a2c_f8e4e3aae442row13_col6\" class=\"data row13 col6\" >-0.38</td>\n",
       "                        <td id=\"T_43a18e34_d6fd_11ed_9a2c_f8e4e3aae442row13_col7\" class=\"data row13 col7\" >0.25</td>\n",
       "                        <td id=\"T_43a18e34_d6fd_11ed_9a2c_f8e4e3aae442row13_col8\" class=\"data row13 col8\" >-0.38</td>\n",
       "                        <td id=\"T_43a18e34_d6fd_11ed_9a2c_f8e4e3aae442row13_col9\" class=\"data row13 col9\" >-0.47</td>\n",
       "                        <td id=\"T_43a18e34_d6fd_11ed_9a2c_f8e4e3aae442row13_col10\" class=\"data row13 col10\" >-0.51</td>\n",
       "                        <td id=\"T_43a18e34_d6fd_11ed_9a2c_f8e4e3aae442row13_col11\" class=\"data row13 col11\" >0.33</td>\n",
       "                        <td id=\"T_43a18e34_d6fd_11ed_9a2c_f8e4e3aae442row13_col12\" class=\"data row13 col12\" >-0.74</td>\n",
       "                        <td id=\"T_43a18e34_d6fd_11ed_9a2c_f8e4e3aae442row13_col13\" class=\"data row13 col13\" >1.00</td>\n",
       "            </tr>\n",
       "    </tbody></table>"
      ],
      "text/plain": [
       "<pandas.io.formats.style.Styler at 0x20ce9adba30>"
      ]
     },
     "execution_count": 15,
     "metadata": {},
     "output_type": "execute_result"
    }
   ],
   "source": [
    "## Correlation\n",
    "\n",
    "data.corr().style.background_gradient(cmap='coolwarm').set_precision(2)"
   ]
  },
  {
   "cell_type": "code",
   "execution_count": 16,
   "metadata": {},
   "outputs": [],
   "source": [
    "import seaborn as sns"
   ]
  },
  {
   "cell_type": "code",
   "execution_count": 17,
   "metadata": {},
   "outputs": [
    {
     "data": {
      "text/plain": [
       "<AxesSubplot:xlabel='CRIM', ylabel='Price'>"
      ]
     },
     "execution_count": 17,
     "metadata": {},
     "output_type": "execute_result"
    },
    {
     "data": {
      "image/png": "[encoded data removed]",
      "text/plain": [
       "<Figure size 720x432 with 1 Axes>"
      ]
     },
     "metadata": {
      "needs_background": "light"
     },
     "output_type": "display_data"
    }
   ],
   "source": [
    "plt.figure(figsize=(10,6))\n",
    "sns.scatterplot(data=data, x='CRIM', y='Price')"
   ]
  },
  {
   "cell_type": "code",
   "execution_count": 18,
   "metadata": {
    "scrolled": false
   },
   "outputs": [
    {
     "data": {
      "text/plain": [
       "<AxesSubplot:xlabel='RM', ylabel='Price'>"
      ]
     },
     "execution_count": 18,
     "metadata": {},
     "output_type": "execute_result"
    },
    {
     "data": {
      "image/png": "[encoded data removed]",
      "text/plain": [
       "<Figure size 720x432 with 1 Axes>"
      ]
     },
     "metadata": {
      "needs_background": "light"
     },
     "output_type": "display_data"
    }
   ],
   "source": [
    "plt.figure(figsize=(10,6))\n",
    "sns.scatterplot(data=data, x='RM', y='Price')"
   ]
  },
  {
   "cell_type": "code",
   "execution_count": 19,
   "metadata": {
    "scrolled": false
   },
   "outputs": [
    {
     "data": {
      "text/plain": [
       "<AxesSubplot:xlabel='LSTAT', ylabel='Price'>"
      ]
     },
     "execution_count": 19,
     "metadata": {},
     "output_type": "execute_result"
    },
    {
     "data": {
      "image/png": "[encoded data removed]",
      "text/plain": [
       "<Figure size 720x432 with 1 Axes>"
      ]
     },
     "metadata": {
      "needs_background": "light"
     },
     "output_type": "display_data"
    }
   ],
   "source": [
    "plt.figure(figsize=(10,6))\n",
    "sns.scatterplot(data=data, x='LSTAT', y='Price')"
   ]
  },
  {
   "cell_type": "markdown",
   "metadata": {},
   "source": [
    "## Prepara Data for Model Training"
   ]
  },
  {
   "cell_type": "code",
   "execution_count": 22,
   "metadata": {},
   "outputs": [],
   "source": [
    "# Separate Independent and Dependent Features\n",
    "\n",
    "X = data.drop('Price', axis=1)\n",
    "y = data['Price']"
   ]
  },
  {
   "cell_type": "code",
   "execution_count": 23,
   "metadata": {},
   "outputs": [
    {
     "data": {
      "text/html": [
       "<div>\n",
       "<style scoped>\n",
       "    .dataframe tbody tr th:only-of-type {\n",
       "        vertical-align: middle;\n",
       "    }\n",
       "\n",
       "    .dataframe tbody tr th {\n",
       "        vertical-align: top;\n",
       "    }\n",
       "\n",
       "    .dataframe thead th {\n",
       "        text-align: right;\n",
       "    }\n",
       "</style>\n",
       "<table border=\"1\" class=\"dataframe\">\n",
       "  <thead>\n",
       "    <tr style=\"text-align: right;\">\n",
       "      <th></th>\n",
       "      <th>CRIM</th>\n",
       "      <th>ZN</th>\n",
       "      <th>INDUS</th>\n",
       "      <th>CHAS</th>\n",
       "      <th>NOX</th>\n",
       "      <th>RM</th>\n",
       "      <th>AGE</th>\n",
       "      <th>DIS</th>\n",
       "      <th>RAD</th>\n",
       "      <th>TAX</th>\n",
       "      <th>PTRATIO</th>\n",
       "      <th>B</th>\n",
       "      <th>LSTAT</th>\n",
       "    </tr>\n",
       "  </thead>\n",
       "  <tbody>\n",
       "    <tr>\n",
       "      <th>0</th>\n",
       "      <td>0.00632</td>\n",
       "      <td>18.0</td>\n",
       "      <td>2.31</td>\n",
       "      <td>0.0</td>\n",
       "      <td>0.538</td>\n",
       "      <td>6.575</td>\n",
       "      <td>65.2</td>\n",
       "      <td>4.0900</td>\n",
       "      <td>1.0</td>\n",
       "      <td>296.0</td>\n",
       "      <td>15.3</td>\n",
       "      <td>396.90</td>\n",
       "      <td>4.98</td>\n",
       "    </tr>\n",
       "    <tr>\n",
       "      <th>1</th>\n",
       "      <td>0.02731</td>\n",
       "      <td>0.0</td>\n",
       "      <td>7.07</td>\n",
       "      <td>0.0</td>\n",
       "      <td>0.469</td>\n",
       "      <td>6.421</td>\n",
       "      <td>78.9</td>\n",
       "      <td>4.9671</td>\n",
       "      <td>2.0</td>\n",
       "      <td>242.0</td>\n",
       "      <td>17.8</td>\n",
       "      <td>396.90</td>\n",
       "      <td>9.14</td>\n",
       "    </tr>\n",
       "    <tr>\n",
       "      <th>2</th>\n",
       "      <td>0.02729</td>\n",
       "      <td>0.0</td>\n",
       "      <td>7.07</td>\n",
       "      <td>0.0</td>\n",
       "      <td>0.469</td>\n",
       "      <td>7.185</td>\n",
       "      <td>61.1</td>\n",
       "      <td>4.9671</td>\n",
       "      <td>2.0</td>\n",
       "      <td>242.0</td>\n",
       "      <td>17.8</td>\n",
       "      <td>392.83</td>\n",
       "      <td>4.03</td>\n",
       "    </tr>\n",
       "    <tr>\n",
       "      <th>3</th>\n",
       "      <td>0.03237</td>\n",
       "      <td>0.0</td>\n",
       "      <td>2.18</td>\n",
       "      <td>0.0</td>\n",
       "      <td>0.458</td>\n",
       "      <td>6.998</td>\n",
       "      <td>45.8</td>\n",
       "      <td>6.0622</td>\n",
       "      <td>3.0</td>\n",
       "      <td>222.0</td>\n",
       "      <td>18.7</td>\n",
       "      <td>394.63</td>\n",
       "      <td>2.94</td>\n",
       "    </tr>\n",
       "    <tr>\n",
       "      <th>4</th>\n",
       "      <td>0.06905</td>\n",
       "      <td>0.0</td>\n",
       "      <td>2.18</td>\n",
       "      <td>0.0</td>\n",
       "      <td>0.458</td>\n",
       "      <td>7.147</td>\n",
       "      <td>54.2</td>\n",
       "      <td>6.0622</td>\n",
       "      <td>3.0</td>\n",
       "      <td>222.0</td>\n",
       "      <td>18.7</td>\n",
       "      <td>396.90</td>\n",
       "      <td>5.33</td>\n",
       "    </tr>\n",
       "  </tbody>\n",
       "</table>\n",
       "</div>"
      ],
      "text/plain": [
       "      CRIM    ZN  INDUS  CHAS    NOX     RM   AGE     DIS  RAD    TAX  \\\n",
       "0  0.00632  18.0   2.31   0.0  0.538  6.575  65.2  4.0900  1.0  296.0   \n",
       "1  0.02731   0.0   7.07   0.0  0.469  6.421  78.9  4.9671  2.0  242.0   \n",
       "2  0.02729   0.0   7.07   0.0  0.469  7.185  61.1  4.9671  2.0  242.0   \n",
       "3  0.03237   0.0   2.18   0.0  0.458  6.998  45.8  6.0622  3.0  222.0   \n",
       "4  0.06905   0.0   2.18   0.0  0.458  7.147  54.2  6.0622  3.0  222.0   \n",
       "\n",
       "   PTRATIO       B  LSTAT  \n",
       "0     15.3  396.90   4.98  \n",
       "1     17.8  396.90   9.14  \n",
       "2     17.8  392.83   4.03  \n",
       "3     18.7  394.63   2.94  \n",
       "4     18.7  396.90   5.33  "
      ]
     },
     "execution_count": 23,
     "metadata": {},
     "output_type": "execute_result"
    }
   ],
   "source": [
    "X.head()"
   ]
  },
  {
   "cell_type": "code",
   "execution_count": 24,
   "metadata": {},
   "outputs": [
    {
     "data": {
      "text/plain": [
       "0    24.0\n",
       "1    21.6\n",
       "2    34.7\n",
       "3    33.4\n",
       "4    36.2\n",
       "Name: Price, dtype: float64"
      ]
     },
     "execution_count": 24,
     "metadata": {},
     "output_type": "execute_result"
    }
   ],
   "source": [
    "y.head()"
   ]
  },
  {
   "cell_type": "code",
   "execution_count": 25,
   "metadata": {},
   "outputs": [],
   "source": [
    "from sklearn.model_selection import train_test_split"
   ]
  },
  {
   "cell_type": "code",
   "execution_count": 26,
   "metadata": {},
   "outputs": [],
   "source": [
    "X_train, X_test, y_train, y_test = train_test_split(X, y, test_size=0.3, random_state=42)"
   ]
  },
  {
   "cell_type": "markdown",
   "metadata": {},
   "source": [
    "### Standarize dataset"
   ]
  },
  {
   "cell_type": "code",
   "execution_count": 27,
   "metadata": {},
   "outputs": [],
   "source": [
    "from sklearn.preprocessing import StandardScaler"
   ]
  },
  {
   "cell_type": "code",
   "execution_count": 28,
   "metadata": {},
   "outputs": [],
   "source": [
    "scaler = StandardScaler()"
   ]
  },
  {
   "cell_type": "code",
   "execution_count": 29,
   "metadata": {},
   "outputs": [],
   "source": [
    "X_train = scaler.fit_transform(X_train)"
   ]
  },
  {
   "cell_type": "code",
   "execution_count": 30,
   "metadata": {},
   "outputs": [],
   "source": [
    "X_test = scaler.transform(X_test)"
   ]
  },
  {
   "cell_type": "code",
   "execution_count": 31,
   "metadata": {},
   "outputs": [
    {
     "data": {
      "text/plain": [
       "array([[-0.41425879, -0.50512499, -1.29214218, ...,  0.18727079,\n",
       "         0.39651419, -1.01531611],\n",
       "       [-0.40200818, -0.50512499, -0.16208345, ..., -0.21208981,\n",
       "         0.3870674 , -0.05366252],\n",
       "       [-0.39721053, -0.50512499, -0.60948856, ..., -0.16771641,\n",
       "         0.42854113, -0.31132373],\n",
       "       ...,\n",
       "       [-0.41604586,  3.03838247, -1.3166773 , ..., -0.56707702,\n",
       "         0.35987906, -0.90549329],\n",
       "       [ 0.92611293, -0.50512499,  1.00549958, ...,  0.8528718 ,\n",
       "        -2.87841346,  1.52750437],\n",
       "       [-0.39030549, -0.50512499, -0.37135358, ...,  1.16348561,\n",
       "        -3.32828832, -0.25218837]])"
      ]
     },
     "execution_count": 31,
     "metadata": {},
     "output_type": "execute_result"
    }
   ],
   "source": [
    "X_train"
   ]
  },
  {
   "cell_type": "code",
   "execution_count": 32,
   "metadata": {},
   "outputs": [
    {
     "data": {
      "text/plain": [
       "array([[-0.406801  , -0.50512499, -1.02225586, ..., -0.74457062,\n",
       "         0.41241246, -0.47605794],\n",
       "       [-0.41105674,  1.26662874, -0.68165068, ..., -0.30083661,\n",
       "         0.42854113, -1.25185755],\n",
       "       [-0.4051199 , -0.50512499,  2.39678516, ...,  0.8084984 ,\n",
       "         0.35031705,  0.79535229],\n",
       "       ...,\n",
       "       [-0.35439903, -0.50512499, -0.71195877, ..., -0.38958342,\n",
       "         0.25688594, -1.09697922],\n",
       "       [ 0.25423453, -0.50512499,  1.00549958, ...,  0.8528718 ,\n",
       "        -2.98970133,  0.53487511],\n",
       "       [ 0.77732457, -0.50512499,  1.00549958, ...,  0.8528718 ,\n",
       "         0.33199949,  0.56585078]])"
      ]
     },
     "execution_count": 32,
     "metadata": {},
     "output_type": "execute_result"
    }
   ],
   "source": [
    "X_test"
   ]
  },
  {
   "cell_type": "markdown",
   "metadata": {},
   "source": [
    "## Model Training"
   ]
  },
  {
   "cell_type": "code",
   "execution_count": 33,
   "metadata": {},
   "outputs": [],
   "source": [
    "from sklearn.linear_model import LinearRegression"
   ]
  },
  {
   "cell_type": "code",
   "execution_count": 34,
   "metadata": {},
   "outputs": [],
   "source": [
    "regression = LinearRegression()"
   ]
  },
  {
   "cell_type": "code",
   "execution_count": 35,
   "metadata": {},
   "outputs": [
    {
     "data": {
      "text/plain": [
       "LinearRegression()"
      ]
     },
     "execution_count": 35,
     "metadata": {},
     "output_type": "execute_result"
    }
   ],
   "source": [
    "regression.fit(X_train, y_train)"
   ]
  },
  {
   "cell_type": "code",
   "execution_count": 36,
   "metadata": {},
   "outputs": [
    {
     "data": {
      "text/plain": [
       "array([[-1.10834602,  0.80843998,  0.34313466,  0.81386426, -1.79804295,\n",
       "         2.913858  , -0.29893918, -2.94251148,  2.09419303, -1.44706731,\n",
       "        -2.05232232,  1.02375187, -3.88579002]])"
      ]
     },
     "execution_count": 36,
     "metadata": {},
     "output_type": "execute_result"
    }
   ],
   "source": [
    "# Coefficients\n",
    "regression.coef_.reshape(1,-1)"
   ]
  },
  {
   "cell_type": "code",
   "execution_count": 37,
   "metadata": {},
   "outputs": [
    {
     "data": {
      "text/plain": [
       "23.01581920903955"
      ]
     },
     "execution_count": 37,
     "metadata": {},
     "output_type": "execute_result"
    }
   ],
   "source": [
    "regression.intercept_"
   ]
  },
  {
   "cell_type": "code",
   "execution_count": 38,
   "metadata": {},
   "outputs": [
    {
     "data": {
      "text/html": [
       "<div>\n",
       "<style scoped>\n",
       "    .dataframe tbody tr th:only-of-type {\n",
       "        vertical-align: middle;\n",
       "    }\n",
       "\n",
       "    .dataframe tbody tr th {\n",
       "        vertical-align: top;\n",
       "    }\n",
       "\n",
       "    .dataframe thead th {\n",
       "        text-align: right;\n",
       "    }\n",
       "</style>\n",
       "<table border=\"1\" class=\"dataframe\">\n",
       "  <thead>\n",
       "    <tr style=\"text-align: right;\">\n",
       "      <th></th>\n",
       "      <th>Coefficient</th>\n",
       "    </tr>\n",
       "  </thead>\n",
       "  <tbody>\n",
       "    <tr>\n",
       "      <th>CRIM</th>\n",
       "      <td>-1.108346</td>\n",
       "    </tr>\n",
       "    <tr>\n",
       "      <th>ZN</th>\n",
       "      <td>0.808440</td>\n",
       "    </tr>\n",
       "    <tr>\n",
       "      <th>INDUS</th>\n",
       "      <td>0.343135</td>\n",
       "    </tr>\n",
       "    <tr>\n",
       "      <th>CHAS</th>\n",
       "      <td>0.813864</td>\n",
       "    </tr>\n",
       "    <tr>\n",
       "      <th>NOX</th>\n",
       "      <td>-1.798043</td>\n",
       "    </tr>\n",
       "    <tr>\n",
       "      <th>RM</th>\n",
       "      <td>2.913858</td>\n",
       "    </tr>\n",
       "    <tr>\n",
       "      <th>AGE</th>\n",
       "      <td>-0.298939</td>\n",
       "    </tr>\n",
       "    <tr>\n",
       "      <th>DIS</th>\n",
       "      <td>-2.942511</td>\n",
       "    </tr>\n",
       "    <tr>\n",
       "      <th>RAD</th>\n",
       "      <td>2.094193</td>\n",
       "    </tr>\n",
       "    <tr>\n",
       "      <th>TAX</th>\n",
       "      <td>-1.447067</td>\n",
       "    </tr>\n",
       "    <tr>\n",
       "      <th>PTRATIO</th>\n",
       "      <td>-2.052322</td>\n",
       "    </tr>\n",
       "    <tr>\n",
       "      <th>B</th>\n",
       "      <td>1.023752</td>\n",
       "    </tr>\n",
       "    <tr>\n",
       "      <th>LSTAT</th>\n",
       "      <td>-3.885790</td>\n",
       "    </tr>\n",
       "  </tbody>\n",
       "</table>\n",
       "</div>"
      ],
      "text/plain": [
       "         Coefficient\n",
       "CRIM       -1.108346\n",
       "ZN          0.808440\n",
       "INDUS       0.343135\n",
       "CHAS        0.813864\n",
       "NOX        -1.798043\n",
       "RM          2.913858\n",
       "AGE        -0.298939\n",
       "DIS        -2.942511\n",
       "RAD         2.094193\n",
       "TAX        -1.447067\n",
       "PTRATIO    -2.052322\n",
       "B           1.023752\n",
       "LSTAT      -3.885790"
      ]
     },
     "execution_count": 38,
     "metadata": {},
     "output_type": "execute_result"
    }
   ],
   "source": [
    "coeff_df = pd.DataFrame(regression.coef_ , index=X.columns, columns=['Coefficient'])\n",
    "coeff_df"
   ]
  },
  {
   "cell_type": "markdown",
   "metadata": {},
   "source": [
    "### Predictions"
   ]
  },
  {
   "cell_type": "code",
   "execution_count": 39,
   "metadata": {},
   "outputs": [],
   "source": [
    "y_pred = regression.predict(X_test)"
   ]
  },
  {
   "cell_type": "code",
   "execution_count": 40,
   "metadata": {},
   "outputs": [
    {
     "data": {
      "text/plain": [
       "<AxesSubplot:xlabel='Price'>"
      ]
     },
     "execution_count": 40,
     "metadata": {},
     "output_type": "execute_result"
    },
    {
     "data": {
      "image/png": "[encoded data removed]",
      "text/plain": [
       "<Figure size 432x288 with 1 Axes>"
      ]
     },
     "metadata": {
      "needs_background": "light"
     },
     "output_type": "display_data"
    }
   ],
   "source": [
    "# Plots predictions\n",
    "sns.scatterplot(x=y_test, y=y_pred)"
   ]
  },
  {
   "cell_type": "code",
   "execution_count": 41,
   "metadata": {},
   "outputs": [],
   "source": [
    "## Errors\n",
    "residuals = y_test -y_pred"
   ]
  },
  {
   "cell_type": "code",
   "execution_count": 42,
   "metadata": {},
   "outputs": [
    {
     "data": {
      "text/plain": [
       "<seaborn.axisgrid.FacetGrid at 0x20cec352c10>"
      ]
     },
     "execution_count": 42,
     "metadata": {},
     "output_type": "execute_result"
    },
    {
     "data": {
      "image/png": "[encoded data removed]",
      "text/plain": [
       "<Figure size 360x360 with 1 Axes>"
      ]
     },
     "metadata": {
      "needs_background": "light"
     },
     "output_type": "display_data"
    }
   ],
   "source": [
    "sns.displot(residuals, kind='kde')"
   ]
  },
  {
   "cell_type": "code",
   "execution_count": 48,
   "metadata": {},
   "outputs": [
    {
     "data": {
      "text/plain": [
       "<matplotlib.lines.Line2D at 0x20ceedf8b20>"
      ]
     },
     "execution_count": 48,
     "metadata": {},
     "output_type": "execute_result"
    },
    {
     "data": {
      "image/png": "[encoded data removed]",
      "text/plain": [
       "<Figure size 432x288 with 1 Axes>"
      ]
     },
     "metadata": {
      "needs_background": "light"
     },
     "output_type": "display_data"
    }
   ],
   "source": [
    "sns.scatterplot(x=y_test, y=residuals)\n",
    "plt.axhline(y=0, color='r', linestyle='--')"
   ]
  },
  {
   "cell_type": "code",
   "execution_count": 44,
   "metadata": {},
   "outputs": [],
   "source": [
    "from sklearn.metrics import mean_absolute_error, mean_squared_error, r2_score"
   ]
  },
  {
   "cell_type": "code",
   "execution_count": 51,
   "metadata": {},
   "outputs": [],
   "source": [
    "MAE = mean_absolute_error(y_test, y_pred)\n",
    "MSE = mean_squared_error(y_test, y_pred)\n",
    "RMSE = np.sqrt(MSE)\n",
    "R2 = r2_score(y_test, y_pred)"
   ]
  },
  {
   "cell_type": "code",
   "execution_count": 52,
   "metadata": {},
   "outputs": [
    {
     "name": "stdout",
     "output_type": "stream",
     "text": [
      "MAE:  3.162709871457405\n",
      "MSE:  21.517444231177205\n",
      "RMSE:  4.6386899261728205\n",
      "R2:  0.7112260057484933\n"
     ]
    }
   ],
   "source": [
    "print(\"MAE: \", MAE)\n",
    "print(\"MSE: \", MSE)\n",
    "print(\"RMSE: \", RMSE)\n",
    "print(\"R2: \", R2)"
   ]
  },
  {
   "cell_type": "code",
   "execution_count": 55,
   "metadata": {},
   "outputs": [
    {
     "name": "stdout",
     "output_type": "stream",
     "text": [
      "Adjusted R2:  0.6840226584639311\n"
     ]
    }
   ],
   "source": [
    "Adj_R2 = 1 - (1- R2) * (len(y_test)-1) / (len(y_test)-X_test.shape[1]-1)\n",
    "print(\"Adjusted R2: \", Adj_R2)"
   ]
  },
  {
   "cell_type": "markdown",
   "metadata": {},
   "source": [
    "## Trying new data prediction"
   ]
  },
  {
   "cell_type": "code",
   "execution_count": 78,
   "metadata": {},
   "outputs": [
    {
     "data": {
      "text/plain": [
       "(13,)"
      ]
     },
     "execution_count": 78,
     "metadata": {},
     "output_type": "execute_result"
    }
   ],
   "source": [
    "boston.data[0].shape"
   ]
  },
  {
   "cell_type": "code",
   "execution_count": 79,
   "metadata": {},
   "outputs": [
    {
     "data": {
      "text/plain": [
       "array([[6.320e-03, 1.800e+01, 2.310e+00, 0.000e+00, 5.380e-01, 6.575e+00,\n",
       "        6.520e+01, 4.090e+00, 1.000e+00, 2.960e+02, 1.530e+01, 3.969e+02,\n",
       "        4.980e+00]])"
      ]
     },
     "execution_count": 79,
     "metadata": {},
     "output_type": "execute_result"
    }
   ],
   "source": [
    "boston.data[0].reshape(1,-1)"
   ]
  },
  {
   "cell_type": "code",
   "execution_count": 89,
   "metadata": {},
   "outputs": [
    {
     "data": {
      "text/html": [
       "<div>\n",
       "<style scoped>\n",
       "    .dataframe tbody tr th:only-of-type {\n",
       "        vertical-align: middle;\n",
       "    }\n",
       "\n",
       "    .dataframe tbody tr th {\n",
       "        vertical-align: top;\n",
       "    }\n",
       "\n",
       "    .dataframe thead th {\n",
       "        text-align: right;\n",
       "    }\n",
       "</style>\n",
       "<table border=\"1\" class=\"dataframe\">\n",
       "  <thead>\n",
       "    <tr style=\"text-align: right;\">\n",
       "      <th></th>\n",
       "      <th>0</th>\n",
       "      <th>1</th>\n",
       "      <th>2</th>\n",
       "      <th>3</th>\n",
       "      <th>4</th>\n",
       "      <th>5</th>\n",
       "      <th>6</th>\n",
       "      <th>7</th>\n",
       "      <th>8</th>\n",
       "      <th>9</th>\n",
       "      <th>10</th>\n",
       "      <th>11</th>\n",
       "      <th>12</th>\n",
       "    </tr>\n",
       "  </thead>\n",
       "  <tbody>\n",
       "    <tr>\n",
       "      <th>0</th>\n",
       "      <td>0.00632</td>\n",
       "      <td>18.0</td>\n",
       "      <td>2.31</td>\n",
       "      <td>0.0</td>\n",
       "      <td>0.538</td>\n",
       "      <td>6.575</td>\n",
       "      <td>65.2</td>\n",
       "      <td>4.09</td>\n",
       "      <td>1.0</td>\n",
       "      <td>296.0</td>\n",
       "      <td>15.3</td>\n",
       "      <td>396.9</td>\n",
       "      <td>4.98</td>\n",
       "    </tr>\n",
       "  </tbody>\n",
       "</table>\n",
       "</div>"
      ],
      "text/plain": [
       "        0     1     2    3      4      5     6     7    8      9     10  \\\n",
       "0  0.00632  18.0  2.31  0.0  0.538  6.575  65.2  4.09  1.0  296.0  15.3   \n",
       "\n",
       "      11    12  \n",
       "0  396.9  4.98  "
      ]
     },
     "execution_count": 89,
     "metadata": {},
     "output_type": "execute_result"
    }
   ],
   "source": [
    "pd.DataFrame(boston.data[0].reshape(1,-1) )"
   ]
  },
  {
   "cell_type": "code",
   "execution_count": 95,
   "metadata": {},
   "outputs": [
    {
     "data": {
      "text/plain": [
       "array([-45.64344024])"
      ]
     },
     "execution_count": 95,
     "metadata": {},
     "output_type": "execute_result"
    }
   ],
   "source": [
    "# Negative value cause we need to standarize before predicting\n",
    "regression.predict([boston.data[0]])"
   ]
  },
  {
   "cell_type": "code",
   "execution_count": 97,
   "metadata": {},
   "outputs": [
    {
     "data": {
      "text/plain": [
       "array([[-0.46808082, -0.49218391, -1.79054859, -1.36081455, -6.19407736,\n",
       "        -8.3243657 , -2.49509073, -1.70191083, -1.20724766, -2.45184812,\n",
       "        -8.69691627, -4.1390015 , -1.89639069]])"
      ]
     },
     "execution_count": 97,
     "metadata": {},
     "output_type": "execute_result"
    }
   ],
   "source": [
    "# Transformation of new date\n",
    "scaler.transform(scaler.transform(boston.data[0].reshape(1,-1)))"
   ]
  },
  {
   "cell_type": "code",
   "execution_count": 99,
   "metadata": {},
   "outputs": [
    {
     "data": {
      "text/plain": [
       "array([36.0500866])"
      ]
     },
     "execution_count": 99,
     "metadata": {},
     "output_type": "execute_result"
    }
   ],
   "source": [
    "regression.predict( scaler.transform(scaler.transform(boston.data[0].reshape(1,-1))) )"
   ]
  },
  {
   "cell_type": "markdown",
   "metadata": {},
   "source": [
    "## Pickling the model file for deployment"
   ]
  },
  {
   "cell_type": "code",
   "execution_count": 100,
   "metadata": {},
   "outputs": [],
   "source": [
    "import pickle"
   ]
  },
  {
   "cell_type": "code",
   "execution_count": 102,
   "metadata": {},
   "outputs": [],
   "source": [
    "pickle.dump(regression, open('regmodel.pkl', 'wb'))"
   ]
  },
  {
   "cell_type": "code",
   "execution_count": 104,
   "metadata": {},
   "outputs": [],
   "source": [
    "pickled_model =  pickle.load(open('regmodel.pkl','rb') )"
   ]
  },
  {
   "cell_type": "code",
   "execution_count": 107,
   "metadata": {},
   "outputs": [
    {
     "data": {
      "text/plain": [
       "array([36.0500866])"
      ]
     },
     "execution_count": 107,
     "metadata": {},
     "output_type": "execute_result"
    }
   ],
   "source": [
    "# Testing Pickle Model \n",
    "pickled_model.predict(scaler.transform(scaler.transform(boston.data[0].reshape(1,-1))))"
   ]
  },
  {
   "cell_type": "code",
   "execution_count": null,
   "metadata": {},
   "outputs": [],
   "source": []
  },
  {
   "cell_type": "code",
   "execution_count": null,
   "metadata": {},
   "outputs": [],
   "source": []
  },
  {
   "cell_type": "code",
   "execution_count": null,
   "metadata": {},
   "outputs": [],
   "source": []
  }
 ],
 "metadata": {
  "kernelspec": {
   "display_name": "Python 3",
   "language": "python",
   "name": "python3"
  },
  "language_info": {
   "codemirror_mode": {
    "name": "ipython",
    "version": 3
   },
   "file_extension": ".py",
   "mimetype": "text/x-python",
   "name": "python",
   "nbconvert_exporter": "python",
   "pygments_lexer": "ipython3",
   "version": "3.7.0"
  }
 },
 "nbformat": 4,
 "nbformat_minor": 4
}
